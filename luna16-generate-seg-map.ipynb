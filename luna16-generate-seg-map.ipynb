{
 "cells": [
  {
   "cell_type": "code",
   "execution_count": 1,
   "metadata": {},
   "outputs": [],
   "source": [
    "# imports\n",
    "\n",
    "from PIL import Image\n",
    "from glob import glob\n",
    "import pandas as pd\n",
    "import skimage, os\n",
    "from skimage.morphology import ball, disk, dilation, binary_erosion, remove_small_objects, erosion, closing, reconstruction, binary_closing\n",
    "from skimage.measure import label,regionprops, perimeter\n",
    "from skimage.morphology import binary_dilation, binary_opening, convex_hull_image\n",
    "from skimage.filters import roberts, sobel\n",
    "from skimage import measure, feature\n",
    "from skimage.segmentation import clear_border\n",
    "from skimage import data\n",
    "from scipy import ndimage as ndi\n",
    "import matplotlib.pyplot as plt\n",
    "from mpl_toolkits.mplot3d.art3d import Poly3DCollection\n",
    "import pydicom\n",
    "import scipy.misc\n",
    "import numpy as np\n",
    "import SimpleITK as sitk\n",
    "from matplotlib import pyplot as plt\n",
    "\n",
    "luna_path = '/vol/bitbucket/xz1919/Imperial-Individual-Project/processed_data_raw/'\n",
    "luna_subset_path = '/vol/bitbucket/xz1919/Imperial-Individual-Project/processed_data_raw/lungs_roi/'\n",
    "file_list=glob(luna_subset_path+\"*.npy\")"
   ]
  },
  {
   "cell_type": "code",
   "execution_count": 18,
   "metadata": {},
   "outputs": [],
   "source": [
    "def get_segmented_lungs(im, plot=False):\n",
    "    '''\n",
    "    This funtion segments the lungs from the given 2D slice.\n",
    "    '''\n",
    "    plt_number = 0\n",
    "    # Original image label: 0\n",
    "    if plot:\n",
    "        f, plots = plt.subplots(12, 1, figsize=(5, 40))\n",
    "        plots[plt_number].axis('off')\n",
    "        plots[plt_number].set_title(f'{plt_number}')\n",
    "        plots[plt_number].imshow(im, cmap=plt.cm.bone)\n",
    "        plt_number += 1\n",
    "\n",
    "    # Step 1: Convert into a binary image.\n",
    "    # image label: 1\n",
    "    binary = im < -604\n",
    "    if plot:\n",
    "        plots[plt_number].axis('off')\n",
    "        plots[plt_number].set_title(f'{plt_number}')\n",
    "        plots[plt_number].imshow(binary, cmap=plt.cm.bone)\n",
    "        plt_number += 1\n",
    "    # Step 2: Remove the blobs connected to the border of the image.\n",
    "    # image label: 2\n",
    "    cleared = clear_border(binary)\n",
    "    if plot:\n",
    "        plots[plt_number].axis('off')\n",
    "        plots[plt_number].set_title(f'{plt_number}')\n",
    "        plots[plt_number].imshow(cleared, cmap=plt.cm.bone)\n",
    "        plt_number += 1\n",
    "    # Step 3: Label the image.\n",
    "    # image label: 3\n",
    "    label_image = label(cleared)\n",
    "    if plot:\n",
    "        plots[plt_number].axis('off')\n",
    "        plots[plt_number].set_title(f'{plt_number}')\n",
    "        plots[plt_number].imshow(label_image, cmap=plt.cm.bone)\n",
    "        plt_number += 1\n",
    "        \n",
    "    label_image_save = label_image.copy()\n",
    "\n",
    "    # Step 4: Keep the labels with 2 largest areas and segment two lungs.\n",
    "    # image label: 4\n",
    "    areas = [r.area for r in regionprops(label_image)]\n",
    "    areas.sort()\n",
    "    labels = []\n",
    "    if len(areas) > 2:\n",
    "        for region in regionprops(label_image):\n",
    "            if region.area < areas[-2]:\n",
    "                for coordinates in region.coords:\n",
    "                    label_image[coordinates[0], coordinates[1]] = 0\n",
    "            else:\n",
    "                coordinates = region.coords[0]\n",
    "                labels.append(label_image[coordinates[0], coordinates[1]])\n",
    "    else:\n",
    "        labels = [1, 2]\n",
    "    if plot:\n",
    "        plots[plt_number].axis('off')\n",
    "        plots[plt_number].set_title(f'{plt_number}')\n",
    "        plots[plt_number].imshow(label_image, cmap=plt.cm.bone)\n",
    "        plt_number += 1\n",
    "    # Step 5: Fill in the small holes inside the mask of lungs which we seperate right and left lung. r and l are symbolic and they can be actually left and right!\n",
    "    # image labels: 5, 6\n",
    "    r = label_image == labels[0]\n",
    "    l = label_image == labels[1]\n",
    "    r_edges = roberts(r)\n",
    "    l_edges = roberts(l)\n",
    "    r = ndi.binary_fill_holes(r_edges)\n",
    "    l = ndi.binary_fill_holes(l_edges)\n",
    "    if plot:\n",
    "        plots[plt_number].axis('off')\n",
    "        plots[plt_number].set_title(f'{plt_number}')\n",
    "        plots[plt_number].imshow(r, cmap=plt.cm.bone)\n",
    "        plt_number += 1\n",
    "\n",
    "        plots[plt_number].axis('off')\n",
    "        plots[plt_number].set_title(f'{plt_number}')\n",
    "        plots[plt_number].imshow(l, cmap=plt.cm.bone)\n",
    "        plt_number += 1\n",
    "\n",
    "    # Step 6: convex hull of each lung\n",
    "    # image labels: 7, 8\n",
    "    r = convex_hull_image(r)\n",
    "    l = convex_hull_image(l)\n",
    "    if plot:\n",
    "        plots[plt_number].axis('off')\n",
    "        plots[plt_number].set_title(f'{plt_number}')\n",
    "        plots[plt_number].imshow(r, cmap=plt.cm.bone)\n",
    "        plt_number += 1\n",
    "\n",
    "        plots[plt_number].axis('off')\n",
    "        plots[plt_number].set_title(f'{plt_number}')\n",
    "        plots[plt_number].imshow(l, cmap=plt.cm.bone)\n",
    "        plt_number += 1\n",
    "    # Step 7: joint two separated right and left lungs.\n",
    "    # image label: 9\n",
    "    sum_of_lr = r + l\n",
    "    binary = sum_of_lr > 0\n",
    "    if plot:\n",
    "        plots[plt_number].axis('off')\n",
    "        plots[plt_number].set_title(f'{plt_number}')\n",
    "        plots[plt_number].imshow(binary, cmap=plt.cm.bone)\n",
    "        plt_number += 1\n",
    "    # Step 8: Closure operation with a disk of radius 10. This operation is\n",
    "    # to keep nodules attached to the lung wall.\n",
    "    # image label: 10\n",
    "    selem = disk(10)\n",
    "    binary = binary_closing(binary, selem)\n",
    "    if plot:\n",
    "        plots[plt_number].axis('off')\n",
    "        plots[plt_number].set_title(f'{plt_number}')\n",
    "        plots[plt_number].imshow(binary, cmap=plt.cm.bone)\n",
    "        plt_number += 1\n",
    "    # Step 9: Superimpose the binary mask on the input image.\n",
    "    # image label: 11\n",
    "    get_high_vals = binary == 0\n",
    "    im[get_high_vals] = 0\n",
    "    if plot:\n",
    "        plots[plt_number].axis('off')\n",
    "        plots[plt_number].set_title(f'{plt_number}')\n",
    "        plots[plt_number].imshow(im, cmap=plt.cm.bone)\n",
    "        plt_number += 1\n",
    "\n",
    "    return im, label_image, binary, label_image_save"
   ]
  },
  {
   "cell_type": "code",
   "execution_count": 19,
   "metadata": {},
   "outputs": [
    {
     "name": "stderr",
     "output_type": "stream",
     "text": [
      "/tmp/ipykernel_1904919/3171208375.py:82: UserWarning: Input image is entirely zero, no valid convex hull. Returning empty image\n",
      "  r = convex_hull_image(r)\n",
      "/tmp/ipykernel_1904919/3171208375.py:83: UserWarning: Input image is entirely zero, no valid convex hull. Returning empty image\n",
      "  l = convex_hull_image(l)\n"
     ]
    }
   ],
   "source": [
    "imgs = []\n",
    "for file in file_list:\n",
    "    imgs.append((np.load(file), file))\n",
    "\n",
    "img_tuple = [(get_segmented_lungs(im), filename) for im, filename in imgs[:3]]"
   ]
  },
  {
   "cell_type": "code",
   "execution_count": 26,
   "metadata": {},
   "outputs": [
    {
     "name": "stdout",
     "output_type": "stream",
     "text": [
      "/vol/bitbucket/xz1919/Imperial-Individual-Project/processed_data_raw/lungs_roi/lungs_189_389_3.npy\n",
      "-3024\n"
     ]
    },
    {
     "data": {
      "text/plain": [
       "<matplotlib.image.AxesImage at 0x7f01911febb0>"
      ]
     },
     "execution_count": 26,
     "metadata": {},
     "output_type": "execute_result"
    },
    {
     "data": {
      "image/png": "[encoded data removed]",
      "text/plain": [
       "<Figure size 640x480 with 1 Axes>"
      ]
     },
     "metadata": {},
     "output_type": "display_data"
    }
   ],
   "source": [
    "# plt.imshow(img_tuple[10][0][0], cmap=plt.cm.bone)\n",
    "\n",
    "print(file_list[4])\n",
    "print(np.min(np.load(file_list[1])))\n",
    "plt.imshow(img_tuple[1][0][3], cmap=plt.cm.bone)\n",
    "\n",
    "# for ((im, label_image, binary, areas), filename) in img_tuple:\n",
    "#     filename = filename.split('/')[-1]\n",
    "#     Image.fromarray(im).save(f'{luna_path}overlay/{filename}.png')\n",
    "#     Image.fromarray(label_image).save(f'{luna_path}label_image/{filename}.png')\n",
    "#     Image.fromarray(binary).save(f'{luna_path}binary_image/{filename}.png')\n",
    "#     Image.fromarray(areas).save(f'{luna_path}area_image/{filename}.png')"
   ]
  },
  {
   "cell_type": "code",
   "execution_count": null,
   "metadata": {},
   "outputs": [],
   "source": []
  }
 ],
 "metadata": {
  "kernelspec": {
   "display_name": "Python 3",
   "language": "python",
   "name": "python3"
  },
  "language_info": {
   "codemirror_mode": {
    "name": "ipython",
    "version": 3
   },
   "file_extension": ".py",
   "mimetype": "text/x-python",
   "name": "python",
   "nbconvert_exporter": "python",
   "pygments_lexer": "ipython3",
   "version": "3.8.10"
  },
  "orig_nbformat": 4,
  "vscode": {
   "interpreter": {
    "hash": "31f2aee4e71d21fbe5cf8b01ff0e069b9275f58929596ceb00d14d90e3e16cd6"
   }
  }
 },
 "nbformat": 4,
 "nbformat_minor": 2
}

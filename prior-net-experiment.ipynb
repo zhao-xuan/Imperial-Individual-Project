{
 "cells": [
  {
   "cell_type": "code",
   "execution_count": 1,
   "metadata": {},
   "outputs": [],
   "source": [
    "import torch\n",
    "from torch import nn\n",
    "from torch.utils.data import Dataset, DataLoader, random_split\n",
    "import torchvision.transforms as transforms\n",
    "import numpy as np\n",
    "import os\n",
    "from PIL import Image\n",
    "import tqdm\n",
    "import torch.nn.functional as F"
   ]
  },
  {
   "cell_type": "code",
   "execution_count": 2,
   "metadata": {},
   "outputs": [],
   "source": [
    "# Directly inference from the trained SDM model to generate pathlogy free images\n",
    "# by running the /scripts/luna16.sh under the Semantic Diffusion Model directory\n",
    "\n",
    "# Prepare training and test dataset\n",
    "LESION_PATH = \"/home/user/data/gt/\"\n",
    "# LESION_FREE_PATH = \"/home/user/data/prior_train/lesion-free\"\n",
    "LESION_FREE_PATH = \"/home/user/data/inpainted/\"\n",
    "WEIGHT_MAP_PATH = \"/home/user/luna-16-seg-diff-data/nodule_labels_ohe/\"\n",
    "\n",
    "class NAAImageDataset(Dataset):\n",
    "  def __init__(self, lesion_path, lesion_free_path, weight_map_path):\n",
    "    self.lesion_path = lesion_path\n",
    "    self.lesion_free_path = lesion_free_path\n",
    "    self.weight_map_path = weight_map_path\n",
    "    self.file_list = os.listdir(self.lesion_path)\n",
    "  \n",
    "  def __len__(self):\n",
    "    return len(self.file_list)\n",
    "  \n",
    "  def __getitem__(self, idx):\n",
    "    filename = self.file_list[idx]\n",
    "    lesion_image = Image.open(os.path.join(self.lesion_path, filename))\n",
    "    lesion_free_image = Image.open(os.path.join(self.lesion_free_path, filename))\n",
    "    \n",
    "    lesion_image = lesion_image.convert('L')\n",
    "    lesion_free_image = lesion_free_image.convert('L')\n",
    "    \n",
    "    weight_map = Image.open(os.path.join(self.weight_map_path, filename[:-4]))\n",
    "    weight_map = weight_map.resize((256, 256))\n",
    "    weight_map = weight_map.convert('L')\n",
    "    # Convert the grayscale image to a NumPy array\n",
    "    grayscale_array = np.array(weight_map)\n",
    "    mask = grayscale_array > 0\n",
    "    converted_array = np.where(mask, 2, 0)\n",
    "    \n",
    "    # Create a new image from the converted array\n",
    "    # converted_image = Image.fromarray(converted_array.astype(np.uint8))\n",
    "    \n",
    "    return transforms.ToTensor()(lesion_image) * 255, transforms.ToTensor()(lesion_free_image) * 255, transforms.ToTensor()(converted_array)"
   ]
  },
  {
   "cell_type": "code",
   "execution_count": 17,
   "metadata": {},
   "outputs": [],
   "source": [
    "# dataset = NAAImageDataset(LESION_PATH, LESION_FREE_PATH, WEIGHT_MAP_PATH)\n",
    "\n",
    "# # randomly split dataset into train and test sets\n",
    "# train_size = int(0.8 * len(dataset))\n",
    "# test_size = len(dataset) - train_size\n",
    "# train_dataset, test_dataset = random_split(dataset, [train_size, test_size])\n",
    "\n",
    "# # create dataloaders for train and test sets\n",
    "# train_dataloader = DataLoader(train_dataset, batch_size=32, shuffle=True)\n",
    "# test_dataloader = DataLoader(test_dataset, batch_size=32, shuffle=True)\n",
    "from torch.utils.data import DataLoader, sampler\n",
    "from torchvision import datasets, transforms\n",
    "\n",
    "transform = transforms.Compose([\n",
    "    transforms.ToTensor(),\n",
    "])\n",
    "\n",
    "train_dat = datasets.MNIST(\n",
    "    \"/home/user/Imperial-Year-4-DLCW2/data\", train=True, download=True, transform=transform\n",
    ")\n",
    "test_dat = datasets.MNIST(\"/home/user/Imperial-Year-4-DLCW2/data\", train=False, transform=transform)\n",
    "\n",
    "train_dataloader = DataLoader(train_dat, 32, shuffle=True, num_workers=32)\n",
    "test_dataloader = DataLoader(test_dat, 32, shuffle=False, num_workers=32)"
   ]
  },
  {
   "cell_type": "code",
   "execution_count": 35,
   "metadata": {},
   "outputs": [],
   "source": [
    "# Write an autoencoder model using conv2d layers\n",
    "class Autoencoder(nn.Module):\n",
    "    def __init__(self):\n",
    "        super(Autoencoder, self).__init__()\n",
    "        # encoder layers\n",
    "        self.encoder = nn.Sequential(\n",
    "            nn.Conv2d(1, 8, 3, padding=1),\n",
    "            nn.LeakyReLU(),\n",
    "            nn.MaxPool2d(2, 2),\n",
    "            nn.Conv2d(8, 16, 3, padding=1),\n",
    "            nn.LeakyReLU(),\n",
    "            nn.MaxPool2d(2, 2),\n",
    "            nn.Conv2d(16, 32, 3, padding=1),\n",
    "            nn.LeakyReLU(),\n",
    "            nn.MaxPool2d(2, 2),\n",
    "            nn.Conv2d(32, 64, 3, padding=1),\n",
    "            nn.LeakyReLU(),\n",
    "            nn.MaxPool2d(2, 2),\n",
    "            nn.Conv2d(64, 128, 3, padding=1),\n",
    "            nn.LeakyReLU(),\n",
    "            nn.MaxPool2d(2, 2),\n",
    "            nn.Conv2d(128, 256, 3, padding=1),\n",
    "            nn.LeakyReLU(),\n",
    "            nn.MaxPool2d(2, 2),\n",
    "            nn.Flatten()\n",
    "        )\n",
    "\n",
    "        # self.latent = nn.Sequential(\n",
    "        #     nn.Linear(24 * 3 * 3, 100),\n",
    "        #     nn.Linear(100, 24 * 3 * 3),\n",
    "        #     nn.LeakyReLU(),\n",
    "        # )\n",
    "\n",
    "        # decoder layers\n",
    "        self.decoder = nn.Sequential(\n",
    "            nn.Unflatten(1, (24, 3, 3)),\n",
    "            nn.ConvTranspose2d(24, 16, 2, stride=2),\n",
    "            nn.LeakyReLU(),\n",
    "            nn.ConvTranspose2d(16, 8, 2, stride=2),\n",
    "            nn.LeakyReLU(),\n",
    "            nn.ConvTranspose2d(8, 1, 6, stride=2),\n",
    "            nn.Sigmoid()\n",
    "        )\n",
    "    \n",
    "    def forward(self, x):\n",
    "        # encode\n",
    "        x = self.encoder(x)\n",
    "        # x = self.latent(x)\n",
    "        # decode\n",
    "        x = self.decoder(x)\n",
    "                \n",
    "        return x"
   ]
  },
  {
   "cell_type": "code",
   "execution_count": 36,
   "metadata": {},
   "outputs": [
    {
     "name": "stdout",
     "output_type": "stream",
     "text": [
      "Total number of parameters is: 7089\n",
      "----------------------------------------------------------------\n",
      "        Layer (type)               Output Shape         Param #\n",
      "================================================================\n",
      "            Conv2d-1            [-1, 8, 28, 28]              80\n",
      "         LeakyReLU-2            [-1, 8, 28, 28]               0\n",
      "         MaxPool2d-3            [-1, 8, 14, 14]               0\n",
      "            Conv2d-4           [-1, 16, 14, 14]           1,168\n",
      "         LeakyReLU-5           [-1, 16, 14, 14]               0\n",
      "         MaxPool2d-6             [-1, 16, 7, 7]               0\n",
      "            Conv2d-7             [-1, 24, 7, 7]           3,480\n",
      "         LeakyReLU-8             [-1, 24, 7, 7]               0\n",
      "         MaxPool2d-9             [-1, 24, 3, 3]               0\n",
      "          Flatten-10                  [-1, 216]               0\n",
      "        Unflatten-11             [-1, 24, 3, 3]               0\n",
      "  ConvTranspose2d-12             [-1, 16, 6, 6]           1,552\n",
      "        LeakyReLU-13             [-1, 16, 6, 6]               0\n",
      "  ConvTranspose2d-14            [-1, 8, 12, 12]             520\n",
      "        LeakyReLU-15            [-1, 8, 12, 12]               0\n",
      "  ConvTranspose2d-16            [-1, 1, 28, 28]             289\n",
      "          Sigmoid-17            [-1, 1, 28, 28]               0\n",
      "================================================================\n",
      "Total params: 7,089\n",
      "Trainable params: 7,089\n",
      "Non-trainable params: 0\n",
      "----------------------------------------------------------------\n",
      "Input size (MB): 0.00\n",
      "Forward/backward pass size (MB): 0.22\n",
      "Params size (MB): 0.03\n",
      "Estimated Total Size (MB): 0.25\n",
      "----------------------------------------------------------------\n"
     ]
    }
   ],
   "source": [
    "from torchsummary import summary\n",
    "\n",
    "device = torch.device(\"cuda\" if torch.cuda.is_available() else \"cpu\")\n",
    "model = Autoencoder().to(device)\n",
    "params = sum(p.numel() for p in model.parameters() if p.requires_grad)\n",
    "print(\"Total number of parameters is: {}\".format(params))\n",
    "summary(model, input_size=(1, 28, 28))\n",
    "\n",
    "import gc\n",
    "model = model.cpu()\n",
    "del model\n",
    "gc.collect()\n",
    "torch.cuda.empty_cache()"
   ]
  },
  {
   "cell_type": "code",
   "execution_count": 37,
   "metadata": {},
   "outputs": [
    {
     "name": "stderr",
     "output_type": "stream",
     "text": [
      "100%|██████████| 1875/1875 [00:09<00:00, 189.20it/s]\n"
     ]
    },
    {
     "name": "stdout",
     "output_type": "stream",
     "text": [
      "epoch [1/10], train loss:0.3674\n"
     ]
    },
    {
     "name": "stderr",
     "output_type": "stream",
     "text": [
      "100%|██████████| 313/313 [00:02<00:00, 148.81it/s]\n"
     ]
    },
    {
     "name": "stdout",
     "output_type": "stream",
     "text": [
      "epoch [1/10], test loss:0.1823\n"
     ]
    },
    {
     "name": "stderr",
     "output_type": "stream",
     "text": [
      "100%|██████████| 1875/1875 [00:09<00:00, 188.08it/s]\n"
     ]
    },
    {
     "name": "stdout",
     "output_type": "stream",
     "text": [
      "epoch [2/10], train loss:0.1633\n"
     ]
    },
    {
     "name": "stderr",
     "output_type": "stream",
     "text": [
      "100%|██████████| 313/313 [00:02<00:00, 151.48it/s]\n"
     ]
    },
    {
     "name": "stdout",
     "output_type": "stream",
     "text": [
      "epoch [2/10], test loss:0.1463\n"
     ]
    },
    {
     "name": "stderr",
     "output_type": "stream",
     "text": [
      "100%|██████████| 1875/1875 [00:10<00:00, 184.62it/s]\n"
     ]
    },
    {
     "name": "stdout",
     "output_type": "stream",
     "text": [
      "epoch [3/10], train loss:0.1370\n"
     ]
    },
    {
     "name": "stderr",
     "output_type": "stream",
     "text": [
      "100%|██████████| 313/313 [00:02<00:00, 142.83it/s]\n"
     ]
    },
    {
     "name": "stdout",
     "output_type": "stream",
     "text": [
      "epoch [3/10], test loss:0.1278\n"
     ]
    },
    {
     "name": "stderr",
     "output_type": "stream",
     "text": [
      "100%|██████████| 1875/1875 [00:10<00:00, 182.46it/s]\n"
     ]
    },
    {
     "name": "stdout",
     "output_type": "stream",
     "text": [
      "epoch [4/10], train loss:0.1232\n"
     ]
    },
    {
     "name": "stderr",
     "output_type": "stream",
     "text": [
      "100%|██████████| 313/313 [00:02<00:00, 143.48it/s]\n"
     ]
    },
    {
     "name": "stdout",
     "output_type": "stream",
     "text": [
      "epoch [4/10], test loss:0.1172\n"
     ]
    },
    {
     "name": "stderr",
     "output_type": "stream",
     "text": [
      "100%|██████████| 1875/1875 [00:09<00:00, 187.90it/s]\n"
     ]
    },
    {
     "name": "stdout",
     "output_type": "stream",
     "text": [
      "epoch [5/10], train loss:0.1148\n"
     ]
    },
    {
     "name": "stderr",
     "output_type": "stream",
     "text": [
      "100%|██████████| 313/313 [00:02<00:00, 148.66it/s]\n"
     ]
    },
    {
     "name": "stdout",
     "output_type": "stream",
     "text": [
      "epoch [5/10], test loss:0.1108\n"
     ]
    },
    {
     "name": "stderr",
     "output_type": "stream",
     "text": [
      "100%|██████████| 1875/1875 [00:09<00:00, 191.44it/s]\n"
     ]
    },
    {
     "name": "stdout",
     "output_type": "stream",
     "text": [
      "epoch [6/10], train loss:0.1098\n"
     ]
    },
    {
     "name": "stderr",
     "output_type": "stream",
     "text": [
      "100%|██████████| 313/313 [00:02<00:00, 148.20it/s]\n"
     ]
    },
    {
     "name": "stdout",
     "output_type": "stream",
     "text": [
      "epoch [6/10], test loss:0.1069\n"
     ]
    },
    {
     "name": "stderr",
     "output_type": "stream",
     "text": [
      "100%|██████████| 1875/1875 [00:10<00:00, 183.84it/s]\n"
     ]
    },
    {
     "name": "stdout",
     "output_type": "stream",
     "text": [
      "epoch [7/10], train loss:0.1062\n"
     ]
    },
    {
     "name": "stderr",
     "output_type": "stream",
     "text": [
      "100%|██████████| 313/313 [00:02<00:00, 144.61it/s]\n"
     ]
    },
    {
     "name": "stdout",
     "output_type": "stream",
     "text": [
      "epoch [7/10], test loss:0.1038\n"
     ]
    },
    {
     "name": "stderr",
     "output_type": "stream",
     "text": [
      "100%|██████████| 1875/1875 [00:10<00:00, 185.21it/s]\n"
     ]
    },
    {
     "name": "stdout",
     "output_type": "stream",
     "text": [
      "epoch [8/10], train loss:0.1036\n"
     ]
    },
    {
     "name": "stderr",
     "output_type": "stream",
     "text": [
      "100%|██████████| 313/313 [00:02<00:00, 146.55it/s]\n"
     ]
    },
    {
     "name": "stdout",
     "output_type": "stream",
     "text": [
      "epoch [8/10], test loss:0.1014\n"
     ]
    },
    {
     "name": "stderr",
     "output_type": "stream",
     "text": [
      "100%|██████████| 1875/1875 [00:09<00:00, 188.87it/s]\n"
     ]
    },
    {
     "name": "stdout",
     "output_type": "stream",
     "text": [
      "epoch [9/10], train loss:0.1014\n"
     ]
    },
    {
     "name": "stderr",
     "output_type": "stream",
     "text": [
      "100%|██████████| 313/313 [00:02<00:00, 144.42it/s]\n"
     ]
    },
    {
     "name": "stdout",
     "output_type": "stream",
     "text": [
      "epoch [9/10], test loss:0.0994\n"
     ]
    },
    {
     "name": "stderr",
     "output_type": "stream",
     "text": [
      "100%|██████████| 1875/1875 [00:10<00:00, 183.94it/s]\n"
     ]
    },
    {
     "name": "stdout",
     "output_type": "stream",
     "text": [
      "epoch [10/10], train loss:0.0996\n"
     ]
    },
    {
     "name": "stderr",
     "output_type": "stream",
     "text": [
      "100%|██████████| 313/313 [00:02<00:00, 152.20it/s]"
     ]
    },
    {
     "name": "stdout",
     "output_type": "stream",
     "text": [
      "epoch [10/10], test loss:0.0978\n"
     ]
    },
    {
     "name": "stderr",
     "output_type": "stream",
     "text": [
      "\n"
     ]
    },
    {
     "data": {
      "text/plain": [
       "([0.3674126932700475,\n",
       "  0.16330492611726125,\n",
       "  0.13699711960951488,\n",
       "  0.12316203647851943,\n",
       "  0.11480832772652308,\n",
       "  0.10978613938093186,\n",
       "  0.10624757548967997,\n",
       "  0.10355976301034292,\n",
       "  0.10141251414616903,\n",
       "  0.09963979956706365],\n",
       " [0.18231199743648688,\n",
       "  0.14627105328507317,\n",
       "  0.12780428513551292,\n",
       "  0.11724142770702466,\n",
       "  0.11081978309744844,\n",
       "  0.10686901187934815,\n",
       "  0.10378321831504377,\n",
       "  0.10143728320971845,\n",
       "  0.099396238097558,\n",
       "  0.09779215858767208])"
      ]
     },
     "execution_count": 37,
     "metadata": {},
     "output_type": "execute_result"
    }
   ],
   "source": [
    "# Write the training loop for this model\n",
    "from torch import optim\n",
    "\n",
    "def train(model, train_dataloader, test_dataloader, num_epochs=5, learning_rate=0.0001):\n",
    "    torch.manual_seed(42)\n",
    "    criterion = nn.BCELoss()\n",
    "    optimizer = optim.Adam(model.parameters(), lr=learning_rate)\n",
    "    train_losses = []\n",
    "    test_losses = []\n",
    "    for epoch in range(num_epochs):\n",
    "        model.train()\n",
    "        running_loss = 0.0\n",
    "        for data in tqdm.tqdm(train_dataloader):\n",
    "            img, lesion_free_img = data\n",
    "            img = img.to(device)\n",
    "            # lesion_free_img = lesion_free_img.to(device)\n",
    "            # weight_map = weight_map.to(device)\n",
    "            # ===================forward=====================\n",
    "            output = model(img)\n",
    "            loss = criterion(output, img)\n",
    "            # ===================backward====================\n",
    "            optimizer.zero_grad()\n",
    "            loss.backward()\n",
    "            optimizer.step()\n",
    "            running_loss += loss.item()\n",
    "        # ===================log========================\n",
    "        train_loss = running_loss / len(train_dataloader)\n",
    "        train_losses.append(train_loss)\n",
    "        print('epoch [{}/{}], train loss:{:.4f}'.format(epoch+1, num_epochs, train_loss))\n",
    "        running_loss = 0.0\n",
    "        for data in tqdm.tqdm(test_dataloader):\n",
    "            model.eval()\n",
    "            img, lesion_free_img = data\n",
    "            img = img.to(device)\n",
    "            # lesion_free_img = lesion_free_img.to(device)\n",
    "            # weight_map = weight_map.to(device)\n",
    "            # ===================forward=====================\n",
    "            output = model(img)\n",
    "            loss = criterion(output, img)\n",
    "            running_loss += loss.item()\n",
    "        # ===================log========================\n",
    "        test_loss = running_loss / len(test_dataloader)\n",
    "        test_losses.append(test_loss)\n",
    "        print('epoch [{}/{}], test loss:{:.4f}'.format(epoch+1, num_epochs, test_loss))\n",
    "    return train_losses, test_losses\n",
    "\n",
    "model = Autoencoder().to(device)\n",
    "train(model, train_dataloader, test_dataloader, num_epochs=10, learning_rate=0.0001)"
   ]
  },
  {
   "cell_type": "code",
   "execution_count": 38,
   "metadata": {},
   "outputs": [
    {
     "name": "stderr",
     "output_type": "stream",
     "text": [
      "  0%|          | 0/313 [00:00<?, ?batch/s]"
     ]
    },
    {
     "name": "stdout",
     "output_type": "stream",
     "text": [
      "0.0 1.0\n",
      "1.5278526e-21 0.99052495\n"
     ]
    },
    {
     "data": {
      "image/png": "[encoded data removed]",
      "text/plain": [
       "<Figure size 640x480 with 1 Axes>"
      ]
     },
     "metadata": {},
     "output_type": "display_data"
    },
    {
     "data": {
      "image/png": "[encoded data removed]",
      "text/plain": [
       "<Figure size 640x480 with 1 Axes>"
      ]
     },
     "metadata": {},
     "output_type": "display_data"
    },
    {
     "name": "stderr",
     "output_type": "stream",
     "text": [
      "  0%|          | 0/313 [00:01<?, ?batch/s]\n"
     ]
    }
   ],
   "source": [
    "# train_losses, test_losses = train(model, train_dataloader, test_dataloader, num_epochs=5, learning_rate=1e-3)\n",
    "\n",
    "# Plot one of the generated images\n",
    "import matplotlib.pyplot as plt\n",
    "\n",
    "model.eval()\n",
    "\n",
    "with torch.no_grad():\n",
    "  with tqdm.tqdm(test_dataloader, unit=\"batch\") as tepoch:\n",
    "    for batch_idx, (lesion, lesion_free) in enumerate(tepoch):\n",
    "      lesion = lesion.to(device)\n",
    "      # lesion_free = lesion_free.to(device)\n",
    "      recon = model(lesion)\n",
    "      if batch_idx % 10 == 0:\n",
    "        # tepoch.set_description(f\"Validation loss: {loss / len(lesion)}\")\n",
    "        # Define scaling factors\n",
    "        big_scale = 1.01\n",
    "        small_scale = 0.99\n",
    "\n",
    "        # Scale the array\n",
    "        recon = recon[0][0].cpu().numpy()\n",
    "        # recon = np.where(recon > recon.mean(), recon * big_scale, recon * small_scale)\n",
    "        # print(lesion_free[0][0].cpu().numpy().min(), lesion_free[0][0].cpu().numpy().max())\n",
    "        print(lesion[0][0].cpu().numpy().min(), lesion[0][0].cpu().numpy().max())\n",
    "        print(recon.min(), recon.max())\n",
    "        plt.imshow(recon)\n",
    "        plt.show()\n",
    "        # plt.imshow(lesion_free[0][0].cpu().numpy())\n",
    "        # plt.show()\n",
    "        plt.imshow(lesion[0][0].cpu().numpy())\n",
    "        plt.show()\n",
    "        break"
   ]
  },
  {
   "cell_type": "code",
   "execution_count": null,
   "metadata": {},
   "outputs": [],
   "source": []
  }
 ],
 "metadata": {
  "kernelspec": {
   "display_name": "peter",
   "language": "python",
   "name": "python3"
  },
  "language_info": {
   "codemirror_mode": {
    "name": "ipython",
    "version": 3
   },
   "file_extension": ".py",
   "mimetype": "text/x-python",
   "name": "python",
   "nbconvert_exporter": "python",
   "pygments_lexer": "ipython3",
   "version": "3.10.0"
  },
  "orig_nbformat": 4
 },
 "nbformat": 4,
 "nbformat_minor": 2
}

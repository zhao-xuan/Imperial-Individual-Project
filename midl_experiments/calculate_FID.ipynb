{
 "cells": [
  {
   "cell_type": "code",
   "execution_count": 8,
   "metadata": {},
   "outputs": [],
   "source": [
    "# example of calculating the frechet inception distance in Keras for cifar10\n",
    "import numpy\n",
    "from numpy import cov\n",
    "from numpy import trace\n",
    "from numpy import iscomplexobj\n",
    "from numpy import asarray\n",
    "from numpy.random import shuffle\n",
    "from scipy.linalg import sqrtm\n",
    "from keras.applications.inception_v3 import InceptionV3\n",
    "from keras.applications.inception_v3 import preprocess_input\n",
    "from keras.datasets.mnist import load_data\n",
    "from skimage.transform import resize\n",
    "from keras.datasets import cifar10\n",
    "import os\n",
    "import cv2\n",
    "import numpy as np"
   ]
  },
  {
   "cell_type": "code",
   "execution_count": 5,
   "metadata": {},
   "outputs": [],
   "source": [
    "# scale an array of images to a new size\n",
    "def scale_images(images, new_shape):\n",
    "\timages_list = list()\n",
    "\tfor image in images:\n",
    "\t\t# resize with nearest neighbor interpolation\n",
    "\t\tnew_image = resize(image, new_shape, 0)\n",
    "\t\t# store\n",
    "\t\timages_list.append(new_image)\n",
    "\treturn asarray(images_list)\n",
    "\n",
    "# calculate frechet inception distance\n",
    "def calculate_fid(model, images1, images2):\n",
    "\t# calculate activations\n",
    "\tact1 = model.predict(images1)\n",
    "\tact2 = model.predict(images2)\n",
    "\t# calculate mean and covariance statistics\n",
    "\tmu1, sigma1 = act1.mean(axis=0), cov(act1, rowvar=False)\n",
    "\tmu2, sigma2 = act2.mean(axis=0), cov(act2, rowvar=False)\n",
    "\t# calculate sum squared difference between means\n",
    "\tssdiff = numpy.sum((mu1 - mu2)**2.0)\n",
    "\t# calculate sqrt of product between cov\n",
    "\tcovmean = sqrtm(sigma1.dot(sigma2))\n",
    "\t# check and correct imaginary numbers from sqrt\n",
    "\tif iscomplexobj(covmean):\n",
    "\t\tcovmean = covmean.real\n",
    "\t# calculate score\n",
    "\tfid = ssdiff + trace(sigma1 + sigma2 - 2.0 * covmean)\n",
    "\treturn fid"
   ]
  },
  {
   "cell_type": "code",
   "execution_count": 11,
   "metadata": {},
   "outputs": [],
   "source": [
    "def get_images(dir):\n",
    "  # Get all JPEG images in the directory\n",
    "  images_filenames = [filename for filename in os.listdir(dir) if filename.endswith(\".png\")]\n",
    "\n",
    "  # Initialize an empty numpy array to hold the images\n",
    "  images_array = np.zeros((len(images_filenames), 256, 256, 3), dtype=np.uint8)\n",
    "\n",
    "  # Load each image and add it to the array\n",
    "  for i, filename in enumerate(images_filenames):\n",
    "    image = cv2.imread(os.path.join(dir, filename))\n",
    "    image_resized = cv2.resize(image, (256, 256))\n",
    "    images_array[i] = image_resized\n",
    "      \n",
    "  return images_array"
   ]
  },
  {
   "cell_type": "code",
   "execution_count": 12,
   "metadata": {},
   "outputs": [
    {
     "name": "stdout",
     "output_type": "stream",
     "text": [
      "Loaded (1000, 256, 256, 3) (1092, 256, 256, 3)\n",
      "Scaled (1000, 256, 256, 3) (1092, 256, 256, 3)\n"
     ]
    },
    {
     "name": "stderr",
     "output_type": "stream",
     "text": [
      "2023-04-04 22:37:32.106275: W tensorflow/tsl/framework/cpu_allocator_impl.cc:83] Allocation of 786432000 exceeds 10% of free system memory.\n"
     ]
    },
    {
     "name": "stdout",
     "output_type": "stream",
     "text": [
      "32/32 [==============================] - 12s 355ms/step\n"
     ]
    },
    {
     "name": "stderr",
     "output_type": "stream",
     "text": [
      "2023-04-04 22:37:44.817139: W tensorflow/tsl/framework/cpu_allocator_impl.cc:83] Allocation of 858783744 exceeds 10% of free system memory.\n"
     ]
    },
    {
     "name": "stdout",
     "output_type": "stream",
     "text": [
      "35/35 [==============================] - 13s 361ms/step\n",
      "FID: 80.820\n"
     ]
    }
   ],
   "source": [
    "# prepare the inception v3 model\n",
    "model = InceptionV3(include_top=False, pooling='avg', input_shape=(256,256,3))\n",
    "# load cifar10 images\n",
    "# (images1, _), (images2, _) = cifar10.load_data()\n",
    "real_image_path = '/vol/bitbucket/xz1919/luna-16-real-images/nodule_images'\n",
    "diffusion_image_path = '/vol/bitbucket/xz1919/diffusion-generated-images/with-nodule/RESULTS/ADE20K-SDM-256CH/samples'\n",
    "gan_image_path = '/vol/bitbucket/xz1919/GAN-images-with-nodule/samples'\n",
    "\n",
    "images1 = get_images(real_image_path)\n",
    "shuffle(images1)\n",
    "images1 = images1[:1000]\n",
    "images2 = get_images(diffusion_image_path)\n",
    "print('Loaded', images1.shape, images2.shape)\n",
    "# convert integer to floating point values\n",
    "images1 = images1.astype('float32')\n",
    "images2 = images2.astype('float32')\n",
    "# resize images\n",
    "images1 = scale_images(images1, (256,256,3))\n",
    "images2 = scale_images(images2, (256,256,3))\n",
    "print('Scaled', images1.shape, images2.shape)\n",
    "# pre-process images\n",
    "images1 = preprocess_input(images1)\n",
    "images2 = preprocess_input(images2)\n",
    "# calculate fid\n",
    "fid = calculate_fid(model, images1, images2)\n",
    "print('FID: %.3f' % fid)"
   ]
  },
  {
   "cell_type": "code",
   "execution_count": 13,
   "metadata": {},
   "outputs": [
    {
     "name": "stdout",
     "output_type": "stream",
     "text": [
      "Loaded (1000, 256, 256, 3) (1024, 256, 256, 3)\n",
      "Scaled (1000, 256, 256, 3) (1024, 256, 256, 3)\n"
     ]
    },
    {
     "name": "stderr",
     "output_type": "stream",
     "text": [
      "2023-04-04 22:40:02.423265: W tensorflow/tsl/framework/cpu_allocator_impl.cc:83] Allocation of 786432000 exceeds 10% of free system memory.\n"
     ]
    },
    {
     "name": "stdout",
     "output_type": "stream",
     "text": [
      "32/32 [==============================] - 11s 357ms/step\n"
     ]
    },
    {
     "name": "stderr",
     "output_type": "stream",
     "text": [
      "2023-04-04 22:40:14.174263: W tensorflow/tsl/framework/cpu_allocator_impl.cc:83] Allocation of 805306368 exceeds 10% of free system memory.\n"
     ]
    },
    {
     "name": "stdout",
     "output_type": "stream",
     "text": [
      "32/32 [==============================] - 12s 366ms/step\n",
      "FID: 186.609\n"
     ]
    }
   ],
   "source": [
    "images3 = get_images(gan_image_path)\n",
    "print('Loaded', images1.shape, images3.shape)\n",
    "# convert integer to floating point values\n",
    "images3 = images3.astype('float32')\n",
    "# resize images\n",
    "images3 = scale_images(images3, (256,256,3))\n",
    "print('Scaled', images1.shape, images3.shape)\n",
    "# pre-process images\n",
    "images3 = preprocess_input(images3)\n",
    "# calculate fid\n",
    "fid = calculate_fid(model, images1, images3)\n",
    "print('FID: %.3f' % fid)"
   ]
  },
  {
   "cell_type": "code",
   "execution_count": 15,
   "metadata": {},
   "outputs": [
    {
     "name": "stdout",
     "output_type": "stream",
     "text": [
      "Loaded (5000, 256, 256, 3) (1010, 256, 256, 3)\n",
      "Scaled (5000, 256, 256, 3) (1010, 256, 256, 3)\n"
     ]
    },
    {
     "name": "stderr",
     "output_type": "stream",
     "text": [
      "2023-04-04 23:28:02.914833: W tensorflow/tsl/framework/cpu_allocator_impl.cc:83] Allocation of 3932160000 exceeds 10% of free system memory.\n"
     ]
    },
    {
     "name": "stdout",
     "output_type": "stream",
     "text": [
      "157/157 [==============================] - 57s 366ms/step\n",
      "32/32 [==============================] - 12s 373ms/step\n",
      "FID: 84.494\n"
     ]
    }
   ],
   "source": [
    "real_healthy_image_path = '/vol/bitbucket/xz1919/luna-16-real-images/images'\n",
    "diffusion_healthy_image_path = '/vol/bitbucket/xz1919/diffusion-generated-images/without-nodule/ADE20K-SDM-256CH/samples'\n",
    "gan_healthy_image_path = '/vol/bitbucket/xz1919/GAN-images-without-nodule'\n",
    "\n",
    "images1 = get_images(real_healthy_image_path)\n",
    "shuffle(images1)\n",
    "images1 = images1[:5000]\n",
    "images2 = get_images(diffusion_healthy_image_path)\n",
    "print('Loaded', images1.shape, images2.shape)\n",
    "# convert integer to floating point values\n",
    "images1 = images1.astype('float32')\n",
    "images2 = images2.astype('float32')\n",
    "# resize images\n",
    "images1 = scale_images(images1, (256,256,3))\n",
    "images2 = scale_images(images2, (256,256,3))\n",
    "print('Scaled', images1.shape, images2.shape)\n",
    "# pre-process images\n",
    "images1 = preprocess_input(images1)\n",
    "images2 = preprocess_input(images2)\n",
    "# calculate fid\n",
    "fid = calculate_fid(model, images1, images2)\n",
    "print('FID: %.3f' % fid)"
   ]
  },
  {
   "cell_type": "code",
   "execution_count": 16,
   "metadata": {},
   "outputs": [
    {
     "name": "stdout",
     "output_type": "stream",
     "text": [
      "Loaded (5000, 256, 256, 3) (1024, 256, 256, 3)\n",
      "Scaled (5000, 256, 256, 3) (1024, 256, 256, 3)\n",
      "157/157 [==============================] - 58s 371ms/step\n",
      "32/32 [==============================] - 12s 388ms/step\n",
      "FID: 147.451\n"
     ]
    }
   ],
   "source": [
    "images3 = get_images(gan_healthy_image_path)\n",
    "print('Loaded', images1.shape, images3.shape)\n",
    "# convert integer to floating point values\n",
    "images3 = images3.astype('float32')\n",
    "# resize images\n",
    "images3 = scale_images(images3, (256,256,3))\n",
    "print('Scaled', images1.shape, images3.shape)\n",
    "# pre-process images\n",
    "images3 = preprocess_input(images3)\n",
    "# calculate fid\n",
    "fid = calculate_fid(model, images1, images3)\n",
    "print('FID: %.3f' % fid)"
   ]
  },
  {
   "cell_type": "code",
   "execution_count": null,
   "metadata": {},
   "outputs": [],
   "source": []
  }
 ],
 "metadata": {
  "kernelspec": {
   "display_name": "Python 3 (ipykernel)",
   "language": "python",
   "name": "python3"
  },
  "language_info": {
   "codemirror_mode": {
    "name": "ipython",
    "version": 3
   },
   "file_extension": ".py",
   "mimetype": "text/x-python",
   "name": "python",
   "nbconvert_exporter": "python",
   "pygments_lexer": "ipython3",
   "version": "3.8.10"
  },
  "orig_nbformat": 4
 },
 "nbformat": 4,
 "nbformat_minor": 2
}

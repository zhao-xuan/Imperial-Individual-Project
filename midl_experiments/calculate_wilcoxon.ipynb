{
 "cells": [
  {
   "cell_type": "code",
   "execution_count": 4,
   "metadata": {},
   "outputs": [],
   "source": [
    "from scipy.stats import wilcoxon"
   ]
  },
  {
   "cell_type": "code",
   "execution_count": 1,
   "metadata": {},
   "outputs": [],
   "source": [
    "# Calculate Wilcoxon test for Local-Global classification\n",
    "# accuracy_ori = [0.8754098415374756, 0.8426229357719421, 0.8557376861572266,\n",
    "#                 0.8491803407669067, 0.8098360896110535, 0.8491803407669067,\n",
    "#                 0.8295081853866577, 0.8327868580818176, 0.8322368264198303,\n",
    "#                 0.8486841917037964]\n",
    "\n",
    "# # mixing diffusion and real samples in the test set\n",
    "# # accuracy_diffusion = [\n",
    "# #   0.8500000238418579, 0.8303341865539551, 0.8594164252281189, 0.8617021441459656,\n",
    "# #   0.8891820311546326, 0.8488063812255859, 0.8704662919044495, 0.8426666855812073,\n",
    "# #   0.8333333134651184, 0.828125\n",
    "# # ]\n",
    "\n",
    "# accuracy_diffusion = [\n",
    "#   0.8879120945930481, 0.8615384697914124, 0.8414096832275391, 0.865638792514801,\n",
    "#   0.8832598924636841, 0.8458150029182434, 0.8722466826438904, 0.8590308427810669,\n",
    "#   0.8766520023345947, 0.8480176329612732\n",
    "# ]\n",
    "\n",
    "# stat, p = wilcoxon(accuracy_ori, accuracy_diffusion, zero_method='zsplit')\n",
    "# p"
   ]
  },
  {
   "cell_type": "code",
   "execution_count": 2,
   "metadata": {},
   "outputs": [],
   "source": [
    "# Calculate Wilcoxon test for mmClassification\n",
    "\n",
    "# accuracy_ori = [86.2295, 83.4426, 87.7049, 82.9228, 81.6092] * 2\n",
    "# accuracy_diffusion = [89.4531, 89.1247, 89.5503, 90.4074, 86.1111] * 2\n",
    "\n",
    "# stat, p = wilcoxon(accuracy_diffusion, accuracy_ori, zero_method='zsplit')\n",
    "# p"
   ]
  },
  {
   "cell_type": "code",
   "execution_count": 5,
   "metadata": {},
   "outputs": [],
   "source": [
    "import numpy as np\n",
    "\n",
    "# Calculate the average and standard deviation of the given array\n",
    "def get_mean_std(array):\n",
    "  return np.mean(array), np.std(array)"
   ]
  },
  {
   "cell_type": "code",
   "execution_count": 17,
   "metadata": {},
   "outputs": [
    {
     "name": "stdout",
     "output_type": "stream",
     "text": [
      "accuracy with diff:  89.71499999999999 1.2619244184974001 accuracy original:  85.76176000000001 1.6955687884600825 accuracy t-test:  9.5367431640625e-06\n",
      "precision with diff:  85.08555257399999 2.219614238196339 precision original:  85.626825944 3.6642316538472866 precision t-test:  0.556640625\n",
      "recall with diff:  90.37105404399999 2.1491446733106807 recall original:  86.42422249 5.050644671239838 recall t-test:  0.0023250579833984375\n",
      "specificity with diff:  89.28983804 1.9387693212604273 specificity original:  85.02614163300001 6.106461201229921 specificity t-test:  0.005580902099609375\n",
      "f1 with diff:  87.61232246900002 1.2314082770834307 f1 original:  85.829948229 1.6122057349900127 f1 t-test:  0.00365447998046875\n"
     ]
    }
   ],
   "source": [
    "# mmClassification: accuracy, F1, precision, recall, specificity\n",
    "accuracy_diffusion = [90.3485, 89.0080, 90.4884, 92.3280, 90.0524, 90.7692, 88.9460, 89.0374, 88.0000, 88.1721]\n",
    "accuracy_original  = [85.2459, 84.9180, 87.5410, 83.2787, 84.9180, 86.2295, 87.8689, 84.2623, 84.5395, 88.8158]\n",
    "\n",
    "stat, p = wilcoxon(accuracy_diffusion, accuracy_original, zero_method='zsplit')\n",
    "u1, s1 = get_mean_std(accuracy_diffusion)\n",
    "u2, s2 = get_mean_std(accuracy_original)\n",
    "print(\"accuracy with diff: \", u1, s1, \"accuracy original: \", u2, s2, \"accuracy t-test: \", p)\n",
    "\n",
    "precision_diffusion = [87.82051282, 84.66257669, 85.27607362, 90.27777778, 83.125, 83.43195266, 83.42541436, 84.84848485, 85.18518519, 82.80254777]\n",
    "precision_original  = [83.91608392, 90.27777778, 87.67123288, 78.0, 91.09589041, 82.45614035, 85.27607362, 84.93150685, 84.61538462, 88.02816901]\n",
    "\n",
    "stat, p = wilcoxon(precision_diffusion, precision_original, zero_method='zsplit')\n",
    "u1, s1 = get_mean_std(precision_diffusion)\n",
    "u2, s2 = get_mean_std(precision_original)\n",
    "print(\"precision with diff: \", u1, s1, \"precision original: \", u2, s2, \"precision t-test: \", p)\n",
    "\n",
    "recall_diffusion = [88.96103896, 89.61038961, 91.44736842, 89.65517241, 92.36111111, 94.63087248, 92.07317073, 89.74358974, 86.79245283, 88.43537415]\n",
    "recall_original = [84.50704225, 80.24691358, 86.48648649, 95.70552147, 80.12048193, 92.15686275, 91.44736842, 82.66666667, 82.87671233, 88.02816901]\n",
    "\n",
    "stat, p = wilcoxon(recall_diffusion, recall_original, zero_method='zsplit')\n",
    "u1, s1 = get_mean_std(recall_diffusion)\n",
    "u2, s2 = get_mean_std(recall_original)\n",
    "print(\"recall with diff: \", u1, s1, \"recall original: \", u2, s2, \"recall t-test: \", p)\n",
    "\n",
    "specificity_diffusion = [91.32420091, 88.58447489, 89.87341772, 93.99141631, 88.65546218, 88.38174274, 86.66666667, 88.53211009, 88.88888889, 88.0]\n",
    "specificity_original = [85.88957055, 90.20979021, 88.53503185, 69.01408451, 90.64748201, 80.26315789, 84.31372549, 85.80645161, 86.07594937, 89.50617284]\n",
    "\n",
    "stat, p = wilcoxon(specificity_diffusion, specificity_original, zero_method='zsplit')\n",
    "u1, s1 = get_mean_std(specificity_diffusion)\n",
    "u2, s2 = get_mean_std(specificity_original)\n",
    "print(\"specificity with diff: \", u1, s1, \"specificity original: \", u2, s2, \"specificity t-test: \", p)\n",
    "\n",
    "f1_diffusion = [88.38709677, 87.06624606, 88.25396825, 89.96539792, 87.5, 88.67924528, 87.53623188, 87.22741433, 85.98130841, 85.52631579]\n",
    "f1_original  = [84.21052632, 84.96732026, 87.07482993, 85.95041322, 85.25641026, 87.03703704, 88.25396825, 83.78378378, 83.73702422, 88.02816901]\n",
    "\n",
    "stat, p = wilcoxon(f1_diffusion, f1_original, zero_method='zsplit')\n",
    "u1, s1 = get_mean_std(f1_diffusion)\n",
    "u2, s2 = get_mean_std(f1_original)\n",
    "print(\"f1 with diff: \", u1, s1, \"f1 original: \", u2, s2, \"f1 t-test: \", p)\n",
    "\n",
    "# accuracy: 90.3485\n",
    "# precision: 87.82051282   (precision[1])\n",
    "# TPR/recall: 88.96103896  (recall[1])\n",
    "# specificity: 91.32420091 (recall[0])\n",
    "# FPR: 8.67579909          (1 - recall[0])"
   ]
  },
  {
   "cell_type": "code",
   "execution_count": 6,
   "metadata": {},
   "outputs": [
    {
     "name": "stdout",
     "output_type": "stream",
     "text": [
      "AP50 with diff:  0.8875000000000002 0.03210685285106595 AP50 original:  0.8026 0.05617330326765554 AP50 t-test:  0.0004825592041015625\n",
      "AP60 with diff:  0.8480000000000001 0.037207526120396656 AP60 original:  0.7373000000000001 0.06028440926143343 AP60 t-test:  0.009765625\n",
      "AR50 with diff:  0.9501999999999999 0.02146532086878737 AR50 original:  0.8923 0.03853582748560099 AR50 t-test:  0.009765625\n",
      "AR60 with diff:  0.9155000000000001 0.024928898892650667 AR60 original:  0.8362 0.041152885682537506 AR60 t-test:  0.009765625\n",
      "AR70 with diff:  0.7807999999999999 0.029593242471888742 AR70 original:  0.6496000000000001 0.043850199543445656 AR70 t-test:  0.001953125\n"
     ]
    }
   ],
   "source": [
    "# mmDetection: accuracy, AP50, AP60, AR50, AR60, AR70\n",
    "# dif_5, 6 on hold\n",
    "AP50_diffusion = [0.924, 0.917, 0.889, 0.936, 0.894, 0.882, 0.872, 0.824, 0.887, 0.850] * 2\n",
    "AP50_original  = [0.792, 0.814, 0.794, 0.723, 0.914, 0.742, 0.814, 0.853, 0.736, 0.844] * 2\n",
    "\n",
    "stat, p = wilcoxon(AP50_diffusion, AP50_original, zero_method='zsplit')\n",
    "u1, s1 = get_mean_std(AP50_diffusion)\n",
    "u2, s2 = get_mean_std(AP50_original)\n",
    "print(\"AP50 with diff: \", u1, s1, \"AP50 original: \", u2, s2, \"AP50 t-test: \", p)\n",
    "\n",
    "AP60_diffusion = [0.866, 0.908, 0.838, 0.891, 0.835, 0.861, 0.853, 0.774, 0.802, 0.852]\n",
    "AP60_original = [0.750, 0.691, 0.718, 0.705, 0.866, 0.667, 0.716, 0.778, 0.674, 0.808]\n",
    "\n",
    "stat, p = wilcoxon(AP60_diffusion, AP60_original, zero_method='zsplit')\n",
    "u1, s1 = get_mean_std(AP60_diffusion)\n",
    "u2, s2 = get_mean_std(AP60_original)\n",
    "print(\"AP60 with diff: \", u1, s1, \"AP60 original: \", u2, s2, \"AP60 t-test: \", p)\n",
    "\n",
    "AR50_diffusion = [0.973, 0.978, 0.960, 0.973, 0.957, 0.957, 0.920, 0.916, 0.934, 0.934]\n",
    "AR50_original = [0.843, 0.904, 0.868, 0.842, 0.974, 0.886, 0.895, 0.930, 0.868, 0.913]\n",
    "\n",
    "stat, p = wilcoxon(AR50_diffusion, AR50_original, zero_method='zsplit')\n",
    "u1, s1 = get_mean_std(AR50_diffusion)\n",
    "u2, s2 = get_mean_std(AR50_original)\n",
    "print(\"AR50 with diff: \", u1, s1, \"AR50 original: \", u2, s2, \"AR50 t-test: \", p)\n",
    "\n",
    "AR60_diffusion = [0.929, 0.964, 0.915, 0.938, 0.906, 0.931, 0.906, 0.869, 0.896, 0.901]\n",
    "AR60_original  = [0.809, 0.789, 0.816, 0.825, 0.930, 0.833, 0.816, 0.868, 0.798, 0.878]\n",
    "\n",
    "stat, p = wilcoxon(AR60_diffusion, AR60_original, zero_method='zsplit')\n",
    "u1, s1 = get_mean_std(AR60_diffusion)\n",
    "u2, s2 = get_mean_std(AR60_original)\n",
    "print(\"AR60 with diff: \", u1, s1, \"AR60 original: \", u2, s2, \"AR60 t-test: \", p)\n",
    "\n",
    "AR70_diffusion = [0.759, 0.826, 0.786, 0.826, 0.735, 0.793, 0.772, 0.757, 0.802, 0.752]\n",
    "AR70_original  = [0.652, 0.614, 0.614, 0.684, 0.667, 0.614, 0.675, 0.728, 0.570, 0.678]\n",
    "\n",
    "stat, p = wilcoxon(AR70_diffusion, AR70_original, zero_method='zsplit')\n",
    "u1, s1 = get_mean_std(AR70_diffusion)\n",
    "u2, s2 = get_mean_std(AR70_original)\n",
    "print(\"AR70 with diff: \", u1, s1, \"AR70 original: \", u2, s2, \"AR70 t-test: \", p)"
   ]
  },
  {
   "cell_type": "code",
   "execution_count": 6,
   "metadata": {},
   "outputs": [
    {
     "name": "stdout",
     "output_type": "stream",
     "text": [
      "accuracy with diff:  88.98649 1.3182226325245665 accuracy original:  85.76176000000001 1.6955687884600825 accuracy t-test:  8.20159912109375e-05\n",
      "precision with diff:  83.32885830299999 2.7404105762416906 precision original:  85.626825944 3.6642316538472866 precision t-test:  0.00390625\n",
      "recall with diff:  90.637360223 2.8565459955535575 recall original:  86.42422249 5.050644671239837 recall t-test:  0.048828125\n",
      "specificity with diff:  87.86306180300002 2.977997664612577 specificity original:  85.02614163299998 6.106461201229919 specificity t-test:  0.048828125\n",
      "f1 with diff:  86.757930688 1.3050724119574932 f1 original:  85.829948229 1.6122057349900125 f1 t-test:  0.322265625\n"
     ]
    }
   ],
   "source": [
    "# mmClassification on gan: accuracy, F1, precision, recall, specificity\n",
    "accuracy_gan = [87.7660, 89.4459, 90.7035, 86.6310, 91.0526, 88.8325, 87.8173, 88.8021, 90.1596, 88.6544] * 2\n",
    "accuracy_original  = [85.2459, 84.9180, 87.5410, 83.2787, 84.9180, 86.2295, 87.8689, 84.2623, 84.5395, 88.8158] * 2\n",
    "\n",
    "stat, p = wilcoxon(accuracy_gan, accuracy_original, zero_method='zsplit')\n",
    "u1, s1 = get_mean_std(accuracy_gan)\n",
    "u2, s2 = get_mean_std(accuracy_original)\n",
    "print(\"accuracy with spade: \", u1, s1, \"accuracy original: \", u2, s2, \"accuracy t-test: \", p)\n",
    "\n",
    "precision_gan = [82.73809524, 84.27672956, 87.34177215, 76.59574468, 85.62091503, 81.3253012, 83.43195266, 85.0931677, 83.42541436, 83.43949045]\n",
    "precision_original  = [83.91608392, 90.27777778, 87.67123288, 78.0, 91.09589041, 82.45614035, 85.27607362, 84.93150685, 84.61538462, 88.02816901]\n",
    "\n",
    "stat, p = wilcoxon(precision_gan, precision_original, zero_method='zsplit')\n",
    "u1, s1 = get_mean_std(precision_gan)\n",
    "u2, s2 = get_mean_std(precision_original)\n",
    "print(\"precision with spade: \", u1, s1, \"precision original: \", u2, s2, \"precision t-test: \", p)\n",
    "\n",
    "recall_gan = [89.1025641, 89.93288591, 89.03225806, 96.0, 91.60839161, 91.21621622, 87.57763975, 87.82051282, 95.56962025, 88.51351351]\n",
    "recall_original = [84.50704225, 80.24691358, 86.48648649, 95.70552147, 80.12048193, 92.15686275, 91.44736842, 82.66666667, 82.87671233, 88.02816901]\n",
    "\n",
    "stat, p = wilcoxon(recall_gan, recall_original, zero_method='zsplit')\n",
    "u1, s1 = get_mean_std(recall_gan)\n",
    "u2, s2 = get_mean_std(recall_original)\n",
    "print(\"recall with spade: \", u1, s1, \"recall original: \", u2, s2, \"recall t-test: \", p)\n",
    "\n",
    "specificity_gan = [86.81818182, 89.13043478, 91.76954733, 80.35714286, 90.71729958, 87.39837398, 87.98283262, 89.47368421, 86.23853211, 88.74458874]\n",
    "specificity_original = [85.88957055, 90.20979021, 88.53503185, 69.01408451, 90.64748201, 80.26315789, 84.31372549, 85.80645161, 86.07594937, 89.50617284]\n",
    "\n",
    "stat, p = wilcoxon(specificity_gan, specificity_original, zero_method='zsplit')\n",
    "u1, s1 = get_mean_std(specificity_gan)\n",
    "u2, s2 = get_mean_std(specificity_original)\n",
    "print(\"specificity with spade: \", u1, s1, \"specificity original: \", u2, s2, \"specificity t-test: \", p)\n",
    "\n",
    "f1_gan = [85.80246914, 87.01298701, 88.17891374, 85.20710059, 88.51351351, 85.98726115, 85.45454545, 86.43533123, 89.08554572, 85.90163934]\n",
    "f1_original  = [84.21052632, 84.96732026, 87.07482993, 85.95041322, 85.25641026, 87.03703704, 88.25396825, 83.78378378, 83.73702422, 88.02816901]\n",
    "\n",
    "stat, p = wilcoxon(f1_gan, f1_original, zero_method='zsplit')\n",
    "u1, s1 = get_mean_std(f1_gan)\n",
    "u2, s2 = get_mean_std(f1_original)\n",
    "print(\"f1 with spade: \", u1, s1, \"f1 original: \", u2, s2, \"f1 t-test: \", p)\n",
    "\n",
    "# accuracy: 90.3485\n",
    "# precision: 87.82051282   (precision[1])\n",
    "# TPR/recall: 88.96103896  (recall[1])\n",
    "# specificity: 91.32420091 (recall[0])\n",
    "# FPR: 8.67579909          (1 - recall[0])"
   ]
  },
  {
   "cell_type": "code",
   "execution_count": 9,
   "metadata": {},
   "outputs": [
    {
     "name": "stdout",
     "output_type": "stream",
     "text": [
      "AP50 with spade:  0.8004 0.04603303161861057 AP50 original:  0.8026 0.05617330326765554 AP50 t-test:  0.9854354858398438\n",
      "AP60 with spade:  0.7236999999999999 0.051400486379021726 AP60 original:  0.7373000000000001 0.06028440926143343 AP60 t-test:  0.625\n",
      "AR50 with spade:  0.9018 0.03517328531712667 AR50 original:  0.8923 0.03853582748560099 AR50 t-test:  0.556640625\n",
      "AR60 with spade:  0.8352 0.04100195117308443 AR60 original:  0.8362 0.041152885682537506 AR60 t-test:  0.921875\n",
      "AR70 with spade:  0.6624 0.035031985384787995 AR70 original:  0.6496000000000001 0.043850199543445656 AR70 t-test:  0.845703125\n"
     ]
    }
   ],
   "source": [
    "# mmDetection on gan: accuracy, AP50, AP60, AR50, AR60, AR70\n",
    "AP50_gan = [0.738, 0.829, 0.823, 0.748, 0.826, 0.748, 0.795, 0.788, 0.811, 0.898]\n",
    "AP50_original  = [0.792, 0.814, 0.794, 0.723, 0.914, 0.742, 0.814, 0.853, 0.736, 0.844]\n",
    "\n",
    "stat, p = wilcoxon(AP50_gan, AP50_original, zero_method='zsplit')\n",
    "u1, s1 = get_mean_std(AP50_gan)\n",
    "u2, s2 = get_mean_std(AP50_original)\n",
    "print(\"AP50 with spade: \", u1, s1, \"AP50 original: \", u2, s2, \"AP50 t-test: \", p)\n",
    "\n",
    "AP60_gan = [0.674, 0.754, 0.735, 0.718, 0.735, 0.629, 0.684, 0.722, 0.757, 0.829]\n",
    "AP60_original = [0.750, 0.691, 0.718, 0.705, 0.866, 0.667, 0.716, 0.778, 0.674, 0.808]\n",
    "\n",
    "stat, p = wilcoxon(AP60_gan, AP60_original, zero_method='zsplit')\n",
    "u1, s1 = get_mean_std(AP60_gan)\n",
    "u2, s2 = get_mean_std(AP60_original)\n",
    "print(\"AP60 with spade: \", u1, s1, \"AP60 original: \", u2, s2, \"AP60 t-test: \", p)\n",
    "\n",
    "AR50_gan = [0.889, 0.917, 0.938, 0.880, 0.947, 0.860, 0.882, 0.861, 0.880, 0.964]\n",
    "AR50_original = [0.843, 0.904, 0.868, 0.842, 0.974, 0.886, 0.895, 0.930, 0.868, 0.913]\n",
    "\n",
    "stat, p = wilcoxon(AR50_gan, AR50_original, zero_method='zsplit')\n",
    "u1, s1 = get_mean_std(AR50_gan)\n",
    "u2, s2 = get_mean_std(AR50_original)\n",
    "print(\"AR50 with spade: \", u1, s1, \"AR50 original: \", u2, s2, \"AR50 t-test: \", p)\n",
    "\n",
    "AR60_gan = [0.833, 0.850, 0.841, 0.846, 0.886, 0.763, 0.791, 0.800, 0.833, 0.909]\n",
    "AR60_original  = [0.809, 0.789, 0.816, 0.825, 0.930, 0.833, 0.816, 0.868, 0.798, 0.878]\n",
    "\n",
    "stat, p = wilcoxon(AR60_gan, AR60_original, zero_method='zsplit')\n",
    "u1, s1 = get_mean_std(AR60_gan)\n",
    "u2, s2 = get_mean_std(AR60_original)\n",
    "print(\"AR60 with spade: \", u1, s1, \"AR60 original: \", u2, s2, \"AR60 t-test: \", p)\n",
    "\n",
    "AR70_gan = [0.620, 0.692, 0.646, 0.675, 0.684, 0.640, 0.636, 0.626, 0.741, 0.664]\n",
    "AR70_original  = [0.652, 0.614, 0.614, 0.684, 0.667, 0.614, 0.675, 0.728, 0.570, 0.678]\n",
    "\n",
    "stat, p = wilcoxon(AR70_gan, AR70_original, zero_method='zsplit')\n",
    "u1, s1 = get_mean_std(AR70_gan)\n",
    "u2, s2 = get_mean_std(AR70_original)\n",
    "print(\"AR70 with spade: \", u1, s1, \"AR70 original: \", u2, s2, \"AR70 t-test: \", p)"
   ]
  },
  {
   "cell_type": "code",
   "execution_count": null,
   "metadata": {},
   "outputs": [],
   "source": []
  }
 ],
 "metadata": {
  "kernelspec": {
   "display_name": "Python 3",
   "language": "python",
   "name": "python3"
  },
  "language_info": {
   "codemirror_mode": {
    "name": "ipython",
    "version": 3
   },
   "file_extension": ".py",
   "mimetype": "text/x-python",
   "name": "python",
   "nbconvert_exporter": "python",
   "pygments_lexer": "ipython3",
   "version": "3.8.10"
  },
  "orig_nbformat": 4
 },
 "nbformat": 4,
 "nbformat_minor": 2
}

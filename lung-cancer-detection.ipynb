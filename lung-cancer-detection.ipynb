{
 "cells": [
  {
   "attachments": {},
   "cell_type": "markdown",
   "metadata": {},
   "source": [
    "## Lungs ROI Nodule Mask Extraction from LUNA16"
   ]
  },
  {
   "cell_type": "code",
   "execution_count": 39,
   "metadata": {},
   "outputs": [
    {
     "name": "stdout",
     "output_type": "stream",
     "text": [
      "Requirement already satisfied: numpy in /Users/zhaoxuan/miniforge3/lib/python3.9/site-packages (1.22.4)\n",
      "Requirement already satisfied: tqdm in /Users/zhaoxuan/miniforge3/lib/python3.9/site-packages (4.62.3)\n",
      "Requirement already satisfied: pandas in /Users/zhaoxuan/miniforge3/lib/python3.9/site-packages (1.5.3)\n",
      "Requirement already satisfied: opencv-python in /Users/zhaoxuan/miniforge3/lib/python3.9/site-packages (4.6.0.66)\n",
      "Requirement already satisfied: pydicom in /Users/zhaoxuan/miniforge3/lib/python3.9/site-packages (2.3.1)\n",
      "Requirement already satisfied: pytz>=2020.1 in /Users/zhaoxuan/miniforge3/lib/python3.9/site-packages (from pandas) (2022.7.1)\n",
      "Requirement already satisfied: python-dateutil>=2.8.1 in /Users/zhaoxuan/miniforge3/lib/python3.9/site-packages (from pandas) (2.8.2)\n",
      "Requirement already satisfied: six>=1.5 in /Users/zhaoxuan/miniforge3/lib/python3.9/site-packages (from python-dateutil>=2.8.1->pandas) (1.15.0)\n",
      "Note: you may need to restart the kernel to use updated packages.\n"
     ]
    }
   ],
   "source": [
    "# Source\n",
    "# https://github.com/ayush9304/Lung_Cancer_Detection/blob/main/notebooks/v2/01_Lungs%20ROI%20_%20Nodule%20Mask%20extraction%20from%20LUNA16%20dataset.ipynb\n",
    "\n",
    "%pip install numpy tqdm pandas opencv-python pydicom"
   ]
  },
  {
   "cell_type": "code",
   "execution_count": 40,
   "metadata": {},
   "outputs": [],
   "source": [
    "import os\n",
    "import cv2\n",
    "import copy\n",
    "import numpy as np\n",
    "import pandas as pd\n",
    "from glob import glob\n",
    "from tqdm import tqdm\n",
    "\n",
    "import SimpleITK as stk\n",
    "import matplotlib.pyplot as plt\n",
    "\n",
    "from sklearn.cluster import KMeans\n",
    "from skimage import measure"
   ]
  },
  {
   "cell_type": "code",
   "execution_count": 41,
   "metadata": {},
   "outputs": [],
   "source": [
    "root = \"./data/LUNA16/\"\n",
    "target_root = \"./processed_data_raw/\""
   ]
  },
  {
   "cell_type": "code",
   "execution_count": 42,
   "metadata": {},
   "outputs": [
    {
     "name": "stdout",
     "output_type": "stream",
     "text": [
      "Files Count: 884\n",
      "DF Count: 1186\n"
     ]
    },
    {
     "data": {
      "text/html": [
       "<div>\n",
       "<style scoped>\n",
       "    .dataframe tbody tr th:only-of-type {\n",
       "        vertical-align: middle;\n",
       "    }\n",
       "\n",
       "    .dataframe tbody tr th {\n",
       "        vertical-align: top;\n",
       "    }\n",
       "\n",
       "    .dataframe thead th {\n",
       "        text-align: right;\n",
       "    }\n",
       "</style>\n",
       "<table border=\"1\" class=\"dataframe\">\n",
       "  <thead>\n",
       "    <tr style=\"text-align: right;\">\n",
       "      <th></th>\n",
       "      <th>seriesuid</th>\n",
       "      <th>coordX</th>\n",
       "      <th>coordY</th>\n",
       "      <th>coordZ</th>\n",
       "      <th>diameter_mm</th>\n",
       "    </tr>\n",
       "  </thead>\n",
       "  <tbody>\n",
       "    <tr>\n",
       "      <th>0</th>\n",
       "      <td>1.3.6.1.4.1.14519.5.2.1.6279.6001.100225287222...</td>\n",
       "      <td>-128.699421</td>\n",
       "      <td>-175.319272</td>\n",
       "      <td>-298.387506</td>\n",
       "      <td>5.651471</td>\n",
       "    </tr>\n",
       "    <tr>\n",
       "      <th>1</th>\n",
       "      <td>1.3.6.1.4.1.14519.5.2.1.6279.6001.100225287222...</td>\n",
       "      <td>103.783651</td>\n",
       "      <td>-211.925149</td>\n",
       "      <td>-227.121250</td>\n",
       "      <td>4.224708</td>\n",
       "    </tr>\n",
       "    <tr>\n",
       "      <th>2</th>\n",
       "      <td>1.3.6.1.4.1.14519.5.2.1.6279.6001.100398138793...</td>\n",
       "      <td>69.639017</td>\n",
       "      <td>-140.944586</td>\n",
       "      <td>876.374496</td>\n",
       "      <td>5.786348</td>\n",
       "    </tr>\n",
       "    <tr>\n",
       "      <th>3</th>\n",
       "      <td>1.3.6.1.4.1.14519.5.2.1.6279.6001.100621383016...</td>\n",
       "      <td>-24.013824</td>\n",
       "      <td>192.102405</td>\n",
       "      <td>-391.081276</td>\n",
       "      <td>8.143262</td>\n",
       "    </tr>\n",
       "    <tr>\n",
       "      <th>4</th>\n",
       "      <td>1.3.6.1.4.1.14519.5.2.1.6279.6001.100621383016...</td>\n",
       "      <td>2.441547</td>\n",
       "      <td>172.464881</td>\n",
       "      <td>-405.493732</td>\n",
       "      <td>18.545150</td>\n",
       "    </tr>\n",
       "  </tbody>\n",
       "</table>\n",
       "</div>"
      ],
      "text/plain": [
       "                                           seriesuid      coordX      coordY  \\\n",
       "0  1.3.6.1.4.1.14519.5.2.1.6279.6001.100225287222... -128.699421 -175.319272   \n",
       "1  1.3.6.1.4.1.14519.5.2.1.6279.6001.100225287222...  103.783651 -211.925149   \n",
       "2  1.3.6.1.4.1.14519.5.2.1.6279.6001.100398138793...   69.639017 -140.944586   \n",
       "3  1.3.6.1.4.1.14519.5.2.1.6279.6001.100621383016...  -24.013824  192.102405   \n",
       "4  1.3.6.1.4.1.14519.5.2.1.6279.6001.100621383016...    2.441547  172.464881   \n",
       "\n",
       "       coordZ  diameter_mm  \n",
       "0 -298.387506     5.651471  \n",
       "1 -227.121250     4.224708  \n",
       "2  876.374496     5.786348  \n",
       "3 -391.081276     8.143262  \n",
       "4 -405.493732    18.545150  "
      ]
     },
     "execution_count": 42,
     "metadata": {},
     "output_type": "execute_result"
    }
   ],
   "source": [
    "subset = 9    # Ran for 0...9\n",
    "file_list = glob(root+f\"images/*.mhd\")\n",
    "annotations_df = pd.read_csv(root+\"annotations.csv\")\n",
    "print(\"Files Count:\",len(file_list))\n",
    "print(\"DF Count:\",len(annotations_df))\n",
    "annotations_df.head()"
   ]
  },
  {
   "cell_type": "code",
   "execution_count": 43,
   "metadata": {},
   "outputs": [
    {
     "data": {
      "image/png": "[encoded data removed]",
      "text/plain": [
       "<Figure size 432x288 with 1 Axes>"
      ]
     },
     "metadata": {
      "needs_background": "light"
     },
     "output_type": "display_data"
    }
   ],
   "source": [
    "d = annotations_df['diameter_mm'].values\n",
    "fig = plt.hist(d, bins=80)"
   ]
  },
  {
   "cell_type": "code",
   "execution_count": 44,
   "metadata": {},
   "outputs": [
    {
     "name": "stdout",
     "output_type": "stream",
     "text": [
      "1149\n"
     ]
    },
    {
     "data": {
      "text/html": [
       "<div>\n",
       "<style scoped>\n",
       "    .dataframe tbody tr th:only-of-type {\n",
       "        vertical-align: middle;\n",
       "    }\n",
       "\n",
       "    .dataframe tbody tr th {\n",
       "        vertical-align: top;\n",
       "    }\n",
       "\n",
       "    .dataframe thead th {\n",
       "        text-align: right;\n",
       "    }\n",
       "</style>\n",
       "<table border=\"1\" class=\"dataframe\">\n",
       "  <thead>\n",
       "    <tr style=\"text-align: right;\">\n",
       "      <th></th>\n",
       "      <th>seriesuid</th>\n",
       "      <th>coordX</th>\n",
       "      <th>coordY</th>\n",
       "      <th>coordZ</th>\n",
       "      <th>diameter_mm</th>\n",
       "      <th>filename</th>\n",
       "    </tr>\n",
       "  </thead>\n",
       "  <tbody>\n",
       "    <tr>\n",
       "      <th>0</th>\n",
       "      <td>1.3.6.1.4.1.14519.5.2.1.6279.6001.100225287222...</td>\n",
       "      <td>-128.699421</td>\n",
       "      <td>-175.319272</td>\n",
       "      <td>-298.387506</td>\n",
       "      <td>5.651471</td>\n",
       "      <td>./data/LUNA16/images/1.3.6.1.4.1.14519.5.2.1.6...</td>\n",
       "    </tr>\n",
       "    <tr>\n",
       "      <th>1</th>\n",
       "      <td>1.3.6.1.4.1.14519.5.2.1.6279.6001.100225287222...</td>\n",
       "      <td>103.783651</td>\n",
       "      <td>-211.925149</td>\n",
       "      <td>-227.121250</td>\n",
       "      <td>4.224708</td>\n",
       "      <td>./data/LUNA16/images/1.3.6.1.4.1.14519.5.2.1.6...</td>\n",
       "    </tr>\n",
       "    <tr>\n",
       "      <th>2</th>\n",
       "      <td>1.3.6.1.4.1.14519.5.2.1.6279.6001.100398138793...</td>\n",
       "      <td>69.639017</td>\n",
       "      <td>-140.944586</td>\n",
       "      <td>876.374496</td>\n",
       "      <td>5.786348</td>\n",
       "      <td>./data/LUNA16/images/1.3.6.1.4.1.14519.5.2.1.6...</td>\n",
       "    </tr>\n",
       "    <tr>\n",
       "      <th>3</th>\n",
       "      <td>1.3.6.1.4.1.14519.5.2.1.6279.6001.100621383016...</td>\n",
       "      <td>-24.013824</td>\n",
       "      <td>192.102405</td>\n",
       "      <td>-391.081276</td>\n",
       "      <td>8.143262</td>\n",
       "      <td>./data/LUNA16/images/1.3.6.1.4.1.14519.5.2.1.6...</td>\n",
       "    </tr>\n",
       "    <tr>\n",
       "      <th>4</th>\n",
       "      <td>1.3.6.1.4.1.14519.5.2.1.6279.6001.100621383016...</td>\n",
       "      <td>2.441547</td>\n",
       "      <td>172.464881</td>\n",
       "      <td>-405.493732</td>\n",
       "      <td>18.545150</td>\n",
       "      <td>./data/LUNA16/images/1.3.6.1.4.1.14519.5.2.1.6...</td>\n",
       "    </tr>\n",
       "  </tbody>\n",
       "</table>\n",
       "</div>"
      ],
      "text/plain": [
       "                                           seriesuid      coordX      coordY  \\\n",
       "0  1.3.6.1.4.1.14519.5.2.1.6279.6001.100225287222... -128.699421 -175.319272   \n",
       "1  1.3.6.1.4.1.14519.5.2.1.6279.6001.100225287222...  103.783651 -211.925149   \n",
       "2  1.3.6.1.4.1.14519.5.2.1.6279.6001.100398138793...   69.639017 -140.944586   \n",
       "3  1.3.6.1.4.1.14519.5.2.1.6279.6001.100621383016...  -24.013824  192.102405   \n",
       "4  1.3.6.1.4.1.14519.5.2.1.6279.6001.100621383016...    2.441547  172.464881   \n",
       "\n",
       "       coordZ  diameter_mm                                           filename  \n",
       "0 -298.387506     5.651471  ./data/LUNA16/images/1.3.6.1.4.1.14519.5.2.1.6...  \n",
       "1 -227.121250     4.224708  ./data/LUNA16/images/1.3.6.1.4.1.14519.5.2.1.6...  \n",
       "2  876.374496     5.786348  ./data/LUNA16/images/1.3.6.1.4.1.14519.5.2.1.6...  \n",
       "3 -391.081276     8.143262  ./data/LUNA16/images/1.3.6.1.4.1.14519.5.2.1.6...  \n",
       "4 -405.493732    18.545150  ./data/LUNA16/images/1.3.6.1.4.1.14519.5.2.1.6...  "
      ]
     },
     "execution_count": 44,
     "metadata": {},
     "output_type": "execute_result"
    }
   ],
   "source": [
    "def get_filename(file_list, file):\n",
    "    for f in file_list:\n",
    "        if file in f:\n",
    "            return f\n",
    "\n",
    "annotations_df[\"filename\"] = annotations_df[\"seriesuid\"].map(lambda file: get_filename(file_list, file))\n",
    "annotations_df = annotations_df.dropna()\n",
    "annotations_df = annotations_df[annotations_df['diameter_mm']>=3.9]     # Excluding nodules with diameter less than 3.9mm\n",
    "print(len(annotations_df))\n",
    "annotations_df.head()"
   ]
  },
  {
   "cell_type": "code",
   "execution_count": 45,
   "metadata": {},
   "outputs": [],
   "source": [
    "def load_mhd(file):\n",
    "  mhdimage = stk.ReadImage(file)\n",
    "  ct_scan = stk.GetArrayFromImage(mhdimage)\n",
    "  origin = np.array(list(mhdimage.GetOrigin()))\n",
    "  space = np.array(list(mhdimage.GetSpacing()))\n",
    "  return ct_scan, origin, space\n",
    "\n",
    "def make_mask(img, center, diam):\n",
    "  mask = np.zeros_like(img, dtype=np.uint8)\n",
    "  mask = cv2.circle(mask, (abs(int(center[0])),abs(int(center[1]))),int(abs(diam//2)), 255, -1)\n",
    "  return mask"
   ]
  },
  {
   "cell_type": "code",
   "execution_count": 46,
   "metadata": {},
   "outputs": [
    {
     "name": "stderr",
     "output_type": "stream",
     "text": [
      "591it [04:08,  2.38it/s]\n"
     ]
    }
   ],
   "source": [
    "n_neighbour = 4      # Number of neighbour slides to consider\n",
    "\n",
    "clahe = cv2.createCLAHE(clipLimit=2.0, tileGridSize=(8,8))  # CLAHE(Contrast Limited Adaptive Histogram Equalization) filter for enhancing the contrast of an image\n",
    "\n",
    "# Iterating over all the files in the subset\n",
    "for i,file in tqdm(enumerate(np.unique(annotations_df['filename'].values))):\n",
    "    annotations = annotations_df[annotations_df[\"filename\"]==file]\n",
    "    ct, origin, space = load_mhd(file)      # Loading the CT scan\n",
    "    num_z, height, width = ct.shape\n",
    "    ct_norm = cv2.normalize(ct, None, 0, 255, cv2.NORM_MINMAX)   # Normalizing the CT scan\n",
    "    for idx, row in annotations.iterrows():\n",
    "        node_x = int(row[\"coordX\"])     # X coordinate of the nodule\n",
    "        node_y = int(row[\"coordY\"])     # Y coordinate of the nodule\n",
    "        node_z = int(row[\"coordZ\"])     # Z coordinate of the nodule\n",
    "        diam = int(row[\"diameter_mm\"])  # Diameter of the nodule\n",
    "\n",
    "        center = np.array([node_x, node_y, node_z])   # nodule center (x,y,z)\n",
    "        v_center = np.rint((center-origin)/space)   # nodule center in voxel space (still x,y,z ordering)\n",
    "        v_diam = int(diam/space[0])+5       # Diameter of the nodule in voxel space\n",
    "\n",
    "        img_norm_neighbours = []\n",
    "        img_norm_improved_neighbours = []\n",
    "        mask_neighbours = []\n",
    "        img_norm = None\n",
    "        img_norm_improved = None\n",
    "        mask = None\n",
    "\n",
    "        if 18<v_diam<22:              # If nodule diameter is of medium size the take two neighbour slides into consideration\n",
    "            n_neighbour = 2\n",
    "\n",
    "        min_i = max(0,(int(v_center[2])-n_neighbour))\n",
    "        max_i = min((int(v_center[2])+n_neighbour),(num_z-1))\n",
    "        n = max_i-min_i\n",
    "        \n",
    "        img_norm = ct_norm[int(v_center[2]),:,:]    # a slice of the CT scan containing the nodule\n",
    "        img_norm = cv2.resize(img_norm, (512,512))  # Resizing the CT scan to 512x512\n",
    "        img_norm_improved = clahe.apply(img_norm.astype(np.uint8))  # Applying CLAHE filter to the image\n",
    "        mask = make_mask(img_norm, v_center, v_diam)    # Creating a mask of the nodule\n",
    "        \n",
    "        if v_diam>18:      # If the nodule is too big, we will also take neighboring slices\n",
    "            for j in range(min_i, max_i+1):\n",
    "                if j==int(v_center[2]):\n",
    "                    continue\n",
    "\n",
    "                im_n = ct_norm[j,:,:]\n",
    "                im_n = cv2.resize(im_n, (512,512))\n",
    "                # im_n_improved = clahe.apply(im_n.astype(np.uint8))\n",
    "                dia = int(2*abs(v_center[2]-j))    # Decrease mask diameter because nodule diameter decrease as we move away from its center\n",
    "                msk = make_mask(im_n, v_center, v_diam-dia)\n",
    "                img_norm_neighbours.append(im_n)\n",
    "                img_norm_improved_neighbours.append(im_n)\n",
    "                mask_neighbours.append(msk)\n",
    "            assert len(img_norm_neighbours)==len(img_norm_improved_neighbours)==len(mask_neighbours)==n  \n",
    "\n",
    "        # Calculating the threshold value for extracting the nodule mask using binary thresholding\n",
    "        mask = cv2.bitwise_and(img_norm, img_norm, mask=cv2.dilate(mask,kernel=np.ones((5,5))))\n",
    "        pts = mask[mask>0]\n",
    "        kmeans2 = KMeans(n_clusters=2).fit(np.reshape(pts,(len(pts),1)))\n",
    "        centroids2 = sorted(kmeans2.cluster_centers_.flatten())\n",
    "        threshold2 = np.mean(centroids2)\n",
    "        \n",
    "        _, mask = cv2.threshold(mask, threshold2, 255, cv2.THRESH_BINARY)\n",
    "        \n",
    "        \n",
    "        # if v_diam>18:\n",
    "        #     for j in range(n):\n",
    "        #         mask_neighbours[j] = cv2.bitwise_and(img_norm_neighbours[j], img_norm_neighbours[j], mask=cv2.dilate(mask_neighbours[j],kernel=np.ones((5,5))))\n",
    "        #         _, mask_neighbours[j] = cv2.threshold(mask_neighbours[j], threshold2, 255, cv2.THRESH_BINARY)\n",
    "        \n",
    "        \n",
    "        # Calculating the threshold value to segment the lungs from CT scan slices using binary thresholding\n",
    "        centeral_area = img_norm[100:400, 100:400]\n",
    "        kmeans = KMeans(n_clusters=2).fit(np.reshape(centeral_area, [np.prod(centeral_area.shape), 1]))\n",
    "        centroids = sorted(kmeans.cluster_centers_.flatten())\n",
    "        threshold = np.mean(centroids)\n",
    "        \n",
    "        # Steps to segment the lungs from CT scan slices\n",
    "        ret, lung_roi = cv2.threshold(img_norm, threshold, 255, cv2.THRESH_BINARY_INV)\n",
    "        lung_roi = cv2.erode(lung_roi, kernel=np.ones([4,4]))\n",
    "        lung_roi = cv2.dilate(lung_roi, kernel=np.ones([13,13]))\n",
    "        lung_roi = cv2.erode(lung_roi, kernel=np.ones([8,8]))\n",
    "\n",
    "        labels = measure.label(lung_roi)        # Labelling different regions in the image\n",
    "        regions = measure.regionprops(labels)   # Extracting the properties of the regions\n",
    "        good_labels = []\n",
    "        for prop in regions:        # Filtering the regions that are not too close to the edges\n",
    "            B = prop.bbox           # Regions that are too close to the edges are outside regions of lungs\n",
    "            if B[2]-B[0] < 475 and B[3]-B[1] < 475 and B[0] > 40 and B[2] < 472:\n",
    "                good_labels.append(prop.label)\n",
    "        lung_roi_mask = np.zeros_like(labels)\n",
    "        for N in good_labels:\n",
    "            lung_roi_mask = lung_roi_mask + np.where(labels == N, 1, 0)\n",
    "\n",
    "        # Steps to get proper segmentation of the lungs without noise and holes\n",
    "        contours, hirearchy = cv2.findContours(lung_roi_mask,cv2.RETR_CCOMP,cv2.CHAIN_APPROX_SIMPLE)\n",
    "        external_contours = np.zeros(lung_roi_mask.shape)\n",
    "        for j in range(len(contours)):\n",
    "            if hirearchy[0][j][3] == -1:  #External Contours\n",
    "                area = cv2.contourArea(contours[j])\n",
    "                if area>518.0:\n",
    "                    cv2.drawContours(external_contours,contours,j,(1,1,1),-1)\n",
    "        external_contours = cv2.dilate(external_contours, kernel=np.ones([4,4]))\n",
    "        \n",
    "        external_contours = cv2.bitwise_not(external_contours.astype(np.uint8))\n",
    "        external_contours = cv2.erode(external_contours, kernel=np.ones((7,7)))\n",
    "        external_contours = cv2.bitwise_not(external_contours)\n",
    "        external_contours = cv2.dilate(external_contours, kernel=np.ones((12,12)))\n",
    "        external_contours = cv2.erode(external_contours, kernel=np.ones((12,12)))\n",
    "        \n",
    "        img_norm_improved = img_norm_improved.astype(np.uint8)\n",
    "        external_contours = external_contours.astype(np.uint8)      # Final segmentated lungs mask\n",
    "        extracted_lungs = cv2.bitwise_and(img_norm_improved, img_norm_improved, mask=external_contours)\n",
    "        \n",
    "        mask = mask.astype(np.uint8)\n",
    "        np.save(os.path.join(target_root+\"nodule_mask/\", f\"masks_{i}_{idx}.npy\"), mask)\n",
    "        np.save(os.path.join(target_root+\"lungs_roi/\", f\"lungs_{i}_{idx}.npy\"), img_norm)\n",
    "        \n",
    "        extracted_lungs_neighbours = [None]*n\n",
    "        \n",
    "        if v_diam>18:\n",
    "            for j in range(n):\n",
    "                img_norm_improved_neighbours[j] = img_norm_improved_neighbours[j].astype(np.uint8)\n",
    "                extracted_lungs_neighbours[j] = cv2.bitwise_and(img_norm_improved_neighbours[j], img_norm_improved_neighbours[j], mask=external_contours)\n",
    "                mask_neighbours[j] = mask_neighbours[j].astype(np.uint8)\n",
    "                np.save(os.path.join(target_root+\"nodule_mask/\", f\"masks_{i}_{idx}_{j}.npy\"), mask_neighbours[j])\n",
    "                np.save(os.path.join(target_root+\"lungs_roi/\", f\"lungs_{i}_{idx}_{j}.npy\"), img_norm_improved_neighbours[j])"
   ]
  },
  {
   "cell_type": "code",
   "execution_count": 47,
   "metadata": {},
   "outputs": [
    {
     "name": "stdout",
     "output_type": "stream",
     "text": [
      "2217\n"
     ]
    }
   ],
   "source": [
    "import shutil\n",
    "from PIL import Image\n",
    "\n",
    "dataset_path = \"./luna16_raw/\"\n",
    "filenames = os.listdir(target_root+\"lungs_roi/\")\n",
    "\n",
    "l = len(filenames)\n",
    "\n",
    "# convert npy files to jpg files\n",
    "for filename in filenames:\n",
    "    if filename.endswith(\".npy\"):\n",
    "        img_npy = np.load(os.path.join(target_root+\"lungs_roi/\", filename))\n",
    "        img = Image.fromarray(img_npy).convert(\"L\")\n",
    "        img.save(os.path.join(target_root+\"lungs_roi/\", filename[:-4]+\".jpg\"))\n",
    "\n",
    "print(l)"
   ]
  },
  {
   "cell_type": "code",
   "execution_count": 54,
   "metadata": {},
   "outputs": [],
   "source": [
    "# move jpg files to the train and test folders\n",
    "for filename in filenames[:int(l*0.8)]:  # 80% of the data for training\n",
    "    if filename.endswith(\".jpg\"):\n",
    "      shutil.copy(os.path.join(target_root+\"lungs_roi/\", filename), os.path.join(dataset_path+\"train_imgs/\", filename))\n",
    "\n",
    "for filename in filenames[int(l*0.8):]:  # 20% of the data for testing\n",
    "    if filename.endswith(\".jpg\"):\n",
    "        shutil.copy(os.path.join(target_root+\"lungs_roi/\", filename), os.path.join(dataset_path+\"test_imgs/\", filename))"
   ]
  }
 ],
 "metadata": {
  "kernelspec": {
   "display_name": "base",
   "language": "python",
   "name": "python3"
  },
  "language_info": {
   "codemirror_mode": {
    "name": "ipython",
    "version": 3
   },
   "file_extension": ".py",
   "mimetype": "text/x-python",
   "name": "python",
   "nbconvert_exporter": "python",
   "pygments_lexer": "ipython3",
   "version": "3.9.7"
  },
  "orig_nbformat": 4,
  "vscode": {
   "interpreter": {
    "hash": "3e4c6a395f4da1d2ca50aa315db4c16eb8c0f355b95af638d6dd0fbd9bff55a8"
   }
  }
 },
 "nbformat": 4,
 "nbformat_minor": 2
}

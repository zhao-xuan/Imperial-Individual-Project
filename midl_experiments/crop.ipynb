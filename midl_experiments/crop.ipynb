{
 "cells": [
  {
   "cell_type": "code",
   "execution_count": 2,
   "metadata": {},
   "outputs": [],
   "source": [
    "import numpy as np\n",
    "import pandas as pd\n",
    "from tqdm import tqdm\n",
    "\n",
    "import SimpleITK as sitk\n",
    "import matplotlib.pyplot as plt\n",
    "\n",
    "import skimage.io\n",
    "import skimage.transform\n",
    "from pathlib import Path\n"
   ]
  },
  {
   "cell_type": "code",
   "execution_count": 3,
   "metadata": {},
   "outputs": [],
   "source": [
    "# root = Path(\"/vol/bitbucket/bh1511/data/LUNA16\")\n",
    "root = Path(\"/data/xz1919/LUNA16\")\n",
    "output_dir = Path(\"./luna16_cropped\")\n",
    "output_dir.mkdir(exist_ok=True, parents=True)"
   ]
  },
  {
   "attachments": {},
   "cell_type": "markdown",
   "metadata": {},
   "source": [
    "# Crop images\n",
    "\n",
    "## Input\n",
    "\n",
    "`root`: A directory of LUNA16 dataset.\n",
    "\n",
    "Labels are read from `candidates_V2.csv`, which contains information about each nodule and non-nodule.\n",
    "\n",
    "Non-nodules are significantly more than nodules, but we want to keep the dataset relatively balanced. To speed up, we limit the number of non-nodules generated. **For each CT scan, we limit the number of non-nodule images cropped to be no more than 2x of the number of nodule images.**\n",
    "\n",
    "## Output\n",
    "\n",
    "`output_dir`: A directory with\n",
    "\n",
    "* Images cropped from the LUNA16 dataset, in which the nodule or non-nodule centers.\n",
    "* Images cropped from diffusion model generated samples. Filenames are prefixed with `gen_`.\n",
    "* `labels.csv`: a CSV that contains information about images cropped from the LUNA16 dataset.\n",
    "    * Used by \n",
    "        * The local-global model.\n",
    "            * The preprocessing script of the model drops some non-nodule samples to make the dataset balanced.\n",
    "        * `mmcls.ipynb`, which generates annotation files for use by MMClassification.\n",
    "* `labels_all.csv`: a CSV that contains information about all images cropped (from LUNA16 + diffusion-generated).\n",
    "\n",
    "# Crop images from the original LUNA16 dataset\n",
    "\n"
   ]
  },
  {
   "cell_type": "code",
   "execution_count": 3,
   "metadata": {},
   "outputs": [
    {
     "data": {
      "text/html": [
       "<div>\n",
       "<style scoped>\n",
       "    .dataframe tbody tr th:only-of-type {\n",
       "        vertical-align: middle;\n",
       "    }\n",
       "\n",
       "    .dataframe tbody tr th {\n",
       "        vertical-align: top;\n",
       "    }\n",
       "\n",
       "    .dataframe thead th {\n",
       "        text-align: right;\n",
       "    }\n",
       "</style>\n",
       "<table border=\"1\" class=\"dataframe\">\n",
       "  <thead>\n",
       "    <tr style=\"text-align: right;\">\n",
       "      <th></th>\n",
       "      <th>seriesuid</th>\n",
       "      <th>coordX</th>\n",
       "      <th>coordY</th>\n",
       "      <th>coordZ</th>\n",
       "      <th>class</th>\n",
       "    </tr>\n",
       "  </thead>\n",
       "  <tbody>\n",
       "    <tr>\n",
       "      <th>0</th>\n",
       "      <td>1.3.6.1.4.1.14519.5.2.1.6279.6001.100225287222...</td>\n",
       "      <td>68.420000</td>\n",
       "      <td>-74.480000</td>\n",
       "      <td>-288.700000</td>\n",
       "      <td>0</td>\n",
       "    </tr>\n",
       "    <tr>\n",
       "      <th>1</th>\n",
       "      <td>1.3.6.1.4.1.14519.5.2.1.6279.6001.100225287222...</td>\n",
       "      <td>-95.209361</td>\n",
       "      <td>-91.809406</td>\n",
       "      <td>-377.426350</td>\n",
       "      <td>0</td>\n",
       "    </tr>\n",
       "    <tr>\n",
       "      <th>2</th>\n",
       "      <td>1.3.6.1.4.1.14519.5.2.1.6279.6001.100225287222...</td>\n",
       "      <td>-24.766755</td>\n",
       "      <td>-120.379294</td>\n",
       "      <td>-273.361539</td>\n",
       "      <td>0</td>\n",
       "    </tr>\n",
       "    <tr>\n",
       "      <th>3</th>\n",
       "      <td>1.3.6.1.4.1.14519.5.2.1.6279.6001.100225287222...</td>\n",
       "      <td>-63.080000</td>\n",
       "      <td>-65.740000</td>\n",
       "      <td>-344.240000</td>\n",
       "      <td>0</td>\n",
       "    </tr>\n",
       "    <tr>\n",
       "      <th>4</th>\n",
       "      <td>1.3.6.1.4.1.14519.5.2.1.6279.6001.100225287222...</td>\n",
       "      <td>52.946688</td>\n",
       "      <td>-92.688873</td>\n",
       "      <td>-241.067872</td>\n",
       "      <td>0</td>\n",
       "    </tr>\n",
       "  </tbody>\n",
       "</table>\n",
       "</div>"
      ],
      "text/plain": [
       "                                           seriesuid     coordX      coordY  \\\n",
       "0  1.3.6.1.4.1.14519.5.2.1.6279.6001.100225287222...  68.420000  -74.480000   \n",
       "1  1.3.6.1.4.1.14519.5.2.1.6279.6001.100225287222... -95.209361  -91.809406   \n",
       "2  1.3.6.1.4.1.14519.5.2.1.6279.6001.100225287222... -24.766755 -120.379294   \n",
       "3  1.3.6.1.4.1.14519.5.2.1.6279.6001.100225287222... -63.080000  -65.740000   \n",
       "4  1.3.6.1.4.1.14519.5.2.1.6279.6001.100225287222...  52.946688  -92.688873   \n",
       "\n",
       "       coordZ  class  \n",
       "0 -288.700000      0  \n",
       "1 -377.426350      0  \n",
       "2 -273.361539      0  \n",
       "3 -344.240000      0  \n",
       "4 -241.067872      0  "
      ]
     },
     "execution_count": 3,
     "metadata": {},
     "output_type": "execute_result"
    }
   ],
   "source": [
    "candidates_df = pd.read_csv(root / \"candidates_V2.csv\")\n",
    "candidates_df.head()"
   ]
  },
  {
   "cell_type": "code",
   "execution_count": 15,
   "metadata": {},
   "outputs": [],
   "source": [
    "def load_image(file):\n",
    "    image_itk = sitk.ReadImage(file)\n",
    "    image_itk = sitk.IntensityWindowing(image_itk, \n",
    "                                        windowMinimum=-1000, windowMaximum=400, \n",
    "                                        outputMinimum=0.0, outputMaximum=255.0)\n",
    "    image_itk = sitk.Cast(image_itk, sitk.sitkUInt8)\n",
    "    image_arr = sitk.GetArrayFromImage(image_itk)\n",
    "    origin = np.array(list(image_itk.GetOrigin()))\n",
    "    space = np.array(list(image_itk.GetSpacing()))\n",
    "    return image_arr, origin, space"
   ]
  },
  {
   "cell_type": "code",
   "execution_count": 16,
   "metadata": {},
   "outputs": [
    {
     "name": "stderr",
     "output_type": "stream",
     "text": [
      "  0%|          | 0/888 [00:00<?, ?it/s]\n"
     ]
    }
   ],
   "source": [
    "image_missing_candidate_indices = []\n",
    "\n",
    "output_candidates = []\n",
    "\n",
    "for series_uid, series_candidates in tqdm(candidates_df.groupby(\"seriesuid\")):\n",
    "    try:\n",
    "        image, origin, space = load_image(root / f\"images/{series_uid}.mhd\")\n",
    "    except:\n",
    "        print(f\"Image for {series_uid} does not exist, skipping\")\n",
    "        image_missing_candidate_indices += list(series_candidates.index)\n",
    "        continue\n",
    "\n",
    "    # reduce the number of non-nodules\n",
    "    class1_nodules = series_candidates[series_candidates[\"class\"] == 1]\n",
    "    nr_class1_nodules = len(class1_nodules)\n",
    "    non_nodules = series_candidates[series_candidates[\"class\"] == 0]\n",
    "    series_candidates = pd.concat(\n",
    "        [class1_nodules, non_nodules.sample(nr_class1_nodules * 2, random_state=42)])\n",
    "\n",
    "    for i, candidate in series_candidates.iterrows():\n",
    "        node_x = candidate[\"coordX\"]     # X coordinate of the nodule\n",
    "        node_y = candidate[\"coordY\"]     # Y coordinate of the nodule\n",
    "        node_z = candidate[\"coordZ\"]     # Z coordinate of the nodule\n",
    "\n",
    "        # nodule center (x,y,z ordering)\n",
    "        center = np.array([node_x, node_y, node_z])\n",
    "        # nodule center in voxel space (x,y,z ordering)\n",
    "        v_center = np.rint((center - origin) / space).astype('int')\n",
    "\n",
    "        v_x, v_y, v_z = v_center\n",
    "\n",
    "        roi_dim = 32\n",
    "        v_x_min = v_x - roi_dim // 2\n",
    "        v_x_max = v_x + roi_dim // 2\n",
    "        v_y_min = v_y - roi_dim // 2\n",
    "        v_y_max = v_y + roi_dim // 2\n",
    "\n",
    "        if v_x_min < 0 or v_y_min < 0:\n",
    "            print(\"Skipping out-of-boundary\")\n",
    "            continue\n",
    "        roi_image = image[v_z, v_y_min:v_y_max, v_x_min:v_x_max]\n",
    "        roi_filename = f\"{series_uid}_{v_z}_{v_x}_{v_y}.png\"\n",
    "\n",
    "        skimage.io.imsave(output_dir / roi_filename, roi_image)\n",
    "        output_candidates.append((roi_filename, candidate[\"class\"], v_x, v_y, v_z))\n",
    "    \n"
   ]
  },
  {
   "cell_type": "code",
   "execution_count": null,
   "metadata": {},
   "outputs": [
    {
     "data": {
      "text/html": [
       "<div>\n",
       "<style scoped>\n",
       "    .dataframe tbody tr th:only-of-type {\n",
       "        vertical-align: middle;\n",
       "    }\n",
       "\n",
       "    .dataframe tbody tr th {\n",
       "        vertical-align: top;\n",
       "    }\n",
       "\n",
       "    .dataframe thead th {\n",
       "        text-align: right;\n",
       "    }\n",
       "</style>\n",
       "<table border=\"1\" class=\"dataframe\">\n",
       "  <thead>\n",
       "    <tr style=\"text-align: right;\">\n",
       "      <th></th>\n",
       "      <th>filename</th>\n",
       "      <th>class</th>\n",
       "      <th>vX</th>\n",
       "      <th>vY</th>\n",
       "      <th>vZ</th>\n",
       "      <th>is_generated</th>\n",
       "    </tr>\n",
       "  </thead>\n",
       "  <tbody>\n",
       "    <tr>\n",
       "      <th>0</th>\n",
       "      <td>1.3.6.1.4.1.14519.5.2.1.6279.6001.100225287222...</td>\n",
       "      <td>1</td>\n",
       "      <td>406</td>\n",
       "      <td>155</td>\n",
       "      <td>117</td>\n",
       "      <td>0</td>\n",
       "    </tr>\n",
       "    <tr>\n",
       "      <th>1</th>\n",
       "      <td>1.3.6.1.4.1.14519.5.2.1.6279.6001.100225287222...</td>\n",
       "      <td>1</td>\n",
       "      <td>45</td>\n",
       "      <td>212</td>\n",
       "      <td>78</td>\n",
       "      <td>0</td>\n",
       "    </tr>\n",
       "    <tr>\n",
       "      <th>2</th>\n",
       "      <td>1.3.6.1.4.1.14519.5.2.1.6279.6001.100225287222...</td>\n",
       "      <td>0</td>\n",
       "      <td>225</td>\n",
       "      <td>348</td>\n",
       "      <td>82</td>\n",
       "      <td>0</td>\n",
       "    </tr>\n",
       "    <tr>\n",
       "      <th>3</th>\n",
       "      <td>1.3.6.1.4.1.14519.5.2.1.6279.6001.100225287222...</td>\n",
       "      <td>0</td>\n",
       "      <td>213</td>\n",
       "      <td>288</td>\n",
       "      <td>173</td>\n",
       "      <td>0</td>\n",
       "    </tr>\n",
       "    <tr>\n",
       "      <th>4</th>\n",
       "      <td>1.3.6.1.4.1.14519.5.2.1.6279.6001.100225287222...</td>\n",
       "      <td>0</td>\n",
       "      <td>131</td>\n",
       "      <td>397</td>\n",
       "      <td>86</td>\n",
       "      <td>0</td>\n",
       "    </tr>\n",
       "  </tbody>\n",
       "</table>\n",
       "</div>"
      ],
      "text/plain": [
       "                                            filename  class   vX   vY   vZ  \\\n",
       "0  1.3.6.1.4.1.14519.5.2.1.6279.6001.100225287222...      1  406  155  117   \n",
       "1  1.3.6.1.4.1.14519.5.2.1.6279.6001.100225287222...      1   45  212   78   \n",
       "2  1.3.6.1.4.1.14519.5.2.1.6279.6001.100225287222...      0  225  348   82   \n",
       "3  1.3.6.1.4.1.14519.5.2.1.6279.6001.100225287222...      0  213  288  173   \n",
       "4  1.3.6.1.4.1.14519.5.2.1.6279.6001.100225287222...      0  131  397   86   \n",
       "\n",
       "   is_generated  \n",
       "0             0  \n",
       "1             0  \n",
       "2             0  \n",
       "3             0  \n",
       "4             0  "
      ]
     },
     "execution_count": 59,
     "metadata": {},
     "output_type": "execute_result"
    }
   ],
   "source": [
    "output_df = pd.DataFrame(output_candidates, columns=[\"filename\", \"is_nodule\", \"vX\", \"vY\", \"vZ\"])\n",
    "output_df[\"is_generated\"] = 0\n",
    "\n",
    "output_df.to_csv(output_dir / \"labels.csv\", index=False)\n",
    "output_df.head()"
   ]
  },
  {
   "attachments": {},
   "cell_type": "markdown",
   "metadata": {},
   "source": [
    "# Crop the diffusion model generated images"
   ]
  },
  {
   "cell_type": "code",
   "execution_count": 8,
   "metadata": {},
   "outputs": [],
   "source": [
    "output_df = pd.read_csv(output_dir / \"labels.csv\")\n",
    "dg_root = Path(\n",
    "    \"/vol/bitbucket/xz1919/diffusion-generated-images/with-nodule/RESULTS/ADE20K-SDM-256CH/images\")\n",
    "# dg_root = Path(\"/vol/bitbucket/xz1919/diffusion-generated-images/without-nodule/ADE20K-SDM-256CH/images\")\n",
    "gan_root = Path(\"/vol/bitbucket/xz1919/GAN-generated-images\")\n",
    "\n",
    "def crop_from_generated(root: Path, is_generated: int, output_df: pd.DataFrame, get_filename, filename_prefix: str = \"gen\", scale: int = 1):\n",
    "    total_nr_missing = 0\n",
    "    generated_images = []\n",
    "\n",
    "    for i, row in tqdm(output_df[output_df[\"is_nodule\"] == 1].iterrows()):\n",
    "        series_uid = row.filename.split(\"_\")[0]\n",
    "        v_x, v_y, v_z = row.vX, row.vY, row.vZ\n",
    "        generated_image_filename = root / get_filename(series_uid, v_z)\n",
    "\n",
    "        if not generated_image_filename.exists():\n",
    "            # print(f\"{generated_image_filename} does not exist!\")\n",
    "            total_nr_missing += 1\n",
    "            continue\n",
    "\n",
    "        img = skimage.io.imread(generated_image_filename, as_gray=True)\n",
    "\n",
    "        roi_dim = 32\n",
    "        v_x_min = v_x - roi_dim // 2\n",
    "        v_x_max = v_x + roi_dim // 2\n",
    "        v_y_min = v_y - roi_dim // 2\n",
    "        v_y_max = v_y + roi_dim // 2\n",
    "\n",
    "        if v_x_min < 0 or v_y_min < 0:\n",
    "            print(\"Skipping out-of-boundary\")\n",
    "            continue\n",
    "\n",
    "        roi_img = img[v_y_min // scale:v_y_max // scale, v_x_min // scale:v_x_max // scale]\n",
    "\n",
    "        if scale > 1:\n",
    "            roi_img = skimage.transform.rescale(roi_img, scale)\n",
    "\n",
    "        roi_filename = f\"{filename_prefix}_{series_uid}_{v_z}_{v_x}_{v_y}.png\"\n",
    "        skimage.io.imsave(output_dir / roi_filename, (roi_img * 255.0).astype(np.uint8))\n",
    "        generated_images.append((roi_filename, row[\"is_nodule\"], is_generated, v_x, v_y, v_z))\n",
    "    print(\"Number of missing images:\", total_nr_missing)\n",
    "    return generated_images"
   ]
  },
  {
   "cell_type": "code",
   "execution_count": 9,
   "metadata": {},
   "outputs": [
    {
     "name": "stderr",
     "output_type": "stream",
     "text": [
      "1524it [00:08, 187.12it/s]\n"
     ]
    },
    {
     "name": "stdout",
     "output_type": "stream",
     "text": [
      "Number of missing images: 777\n"
     ]
    },
    {
     "name": "stderr",
     "output_type": "stream",
     "text": [
      "1524it [00:20, 73.21it/s] "
     ]
    },
    {
     "name": "stdout",
     "output_type": "stream",
     "text": [
      "Number of missing images: 738\n"
     ]
    },
    {
     "name": "stderr",
     "output_type": "stream",
     "text": [
      "\n"
     ]
    }
   ],
   "source": [
    "diffusion_generated_images = crop_from_generated(dg_root, 1, output_df, lambda series_uid, v_z: f\"{series_uid}_{v_z}.png.png\", \"diffusion\", 2)\n",
    "gan_generated_images = crop_from_generated(gan_root, 2, output_df, lambda series_uid, v_z: f\"{series_uid}_{v_z}-fake.png\", \"gan\", 1)"
   ]
  },
  {
   "cell_type": "code",
   "execution_count": 10,
   "metadata": {},
   "outputs": [],
   "source": [
    "columns = [\"filename\", \"is_nodule\", \"is_generated\", \"vX\", \"vY\", \"vZ\"]\n",
    "\n",
    "diffusion_generated_df = pd.DataFrame(diffusion_generated_images, columns=columns)\n",
    "gan_generated_df = pd.DataFrame(gan_generated_images, columns=columns)\n",
    "\n",
    "all_df = pd.concat([output_df, diffusion_generated_df, gan_generated_df]).reset_index(drop=True)\n",
    "\n",
    "del all_df[\"Unnamed: 0\"]\n",
    "all_df.to_csv(output_dir / \"labels_all.csv\", index=False)"
   ]
  },
  {
   "cell_type": "code",
   "execution_count": null,
   "metadata": {},
   "outputs": [],
   "source": []
  }
 ],
 "metadata": {
  "kernelspec": {
   "display_name": "Python 3",
   "language": "python",
   "name": "python3"
  },
  "language_info": {
   "codemirror_mode": {
    "name": "ipython",
    "version": 3
   },
   "file_extension": ".py",
   "mimetype": "text/x-python",
   "name": "python",
   "nbconvert_exporter": "python",
   "pygments_lexer": "ipython3",
   "version": "3.8.10"
  },
  "orig_nbformat": 4,
  "vscode": {
   "interpreter": {
    "hash": "31f2aee4e71d21fbe5cf8b01ff0e069b9275f58929596ceb00d14d90e3e16cd6"
   }
  }
 },
 "nbformat": 4,
 "nbformat_minor": 2
}

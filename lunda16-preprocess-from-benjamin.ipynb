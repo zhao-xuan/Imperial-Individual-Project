{
 "cells": [
  {
   "cell_type": "code",
   "execution_count": 1,
   "id": "37d9c46b-0d1d-4d45-9789-39ed6266fa07",
   "metadata": {},
   "outputs": [],
   "source": [
    "import os\n",
    "import cv2\n",
    "import copy\n",
    "import numpy as np\n",
    "import pandas as pd\n",
    "from glob import glob\n",
    "from tqdm import tqdm\n",
    "\n",
    "import SimpleITK as sitk\n",
    "import matplotlib.pyplot as plt\n",
    "\n",
    "from scipy import ndimage\n",
    "from sklearn.cluster import KMeans\n",
    "from skimage import measure"
   ]
  },
  {
   "cell_type": "code",
   "execution_count": 2,
   "id": "32387249-e07a-4c2d-9bf7-11df54a302d5",
   "metadata": {},
   "outputs": [],
   "source": [
    "root = \"/vol/bitbucket/bh1511/data/LUNA16\"\n",
    "target = \"/vol/bitbucket/xz1919/luna-16-seg-diff-data\""
   ]
  },
  {
   "cell_type": "code",
   "execution_count": 3,
   "id": "a1d1bd10-4931-41f2-9c8e-069f7eaed842",
   "metadata": {},
   "outputs": [
    {
     "ename": "FileNotFoundError",
     "evalue": "[Errno 2] No such file or directory: '/vol/bitbucket/bh1511/data/LUNA16/annotations.csv'",
     "output_type": "error",
     "traceback": [
      "\u001b[0;31m---------------------------------------------------------------------------\u001b[0m",
      "\u001b[0;31mFileNotFoundError\u001b[0m                         Traceback (most recent call last)",
      "\u001b[1;32m/home/user/Imperial-Individual-Project/lunda16-preprocess-from-benjamin.ipynb Cell 3\u001b[0m in \u001b[0;36m<cell line: 2>\u001b[0;34m()\u001b[0m\n\u001b[1;32m      <a href='vscode-notebook-cell://ssh-remote%2Bdiffusion-venv/home/user/Imperial-Individual-Project/lunda16-preprocess-from-benjamin.ipynb#W2sdnNjb2RlLXJlbW90ZQ%3D%3D?line=0'>1</a>\u001b[0m file_list \u001b[39m=\u001b[39m glob(os\u001b[39m.\u001b[39mpath\u001b[39m.\u001b[39mjoin(root, \u001b[39m'\u001b[39m\u001b[39mimages/*.mhd\u001b[39m\u001b[39m'\u001b[39m))\n\u001b[0;32m----> <a href='vscode-notebook-cell://ssh-remote%2Bdiffusion-venv/home/user/Imperial-Individual-Project/lunda16-preprocess-from-benjamin.ipynb#W2sdnNjb2RlLXJlbW90ZQ%3D%3D?line=1'>2</a>\u001b[0m annotations_df \u001b[39m=\u001b[39m pd\u001b[39m.\u001b[39;49mread_csv(os\u001b[39m.\u001b[39;49mpath\u001b[39m.\u001b[39;49mjoin(root, \u001b[39m'\u001b[39;49m\u001b[39mannotations.csv\u001b[39;49m\u001b[39m'\u001b[39;49m))\n\u001b[1;32m      <a href='vscode-notebook-cell://ssh-remote%2Bdiffusion-venv/home/user/Imperial-Individual-Project/lunda16-preprocess-from-benjamin.ipynb#W2sdnNjb2RlLXJlbW90ZQ%3D%3D?line=3'>4</a>\u001b[0m \u001b[39m# Remove missing images\u001b[39;00m\n\u001b[1;32m      <a href='vscode-notebook-cell://ssh-remote%2Bdiffusion-venv/home/user/Imperial-Individual-Project/lunda16-preprocess-from-benjamin.ipynb#W2sdnNjb2RlLXJlbW90ZQ%3D%3D?line=4'>5</a>\u001b[0m annotations_df \u001b[39m=\u001b[39m annotations_df[\u001b[39m~\u001b[39mannotations_df[\u001b[39m'\u001b[39m\u001b[39mseriesuid\u001b[39m\u001b[39m'\u001b[39m]\u001b[39m.\u001b[39misin([\n\u001b[1;32m      <a href='vscode-notebook-cell://ssh-remote%2Bdiffusion-venv/home/user/Imperial-Individual-Project/lunda16-preprocess-from-benjamin.ipynb#W2sdnNjb2RlLXJlbW90ZQ%3D%3D?line=5'>6</a>\u001b[0m     \u001b[39m'\u001b[39m\u001b[39m1.3.6.1.4.1.14519.5.2.1.6279.6001.771741891125176943862272696845\u001b[39m\u001b[39m'\u001b[39m,\n\u001b[1;32m      <a href='vscode-notebook-cell://ssh-remote%2Bdiffusion-venv/home/user/Imperial-Individual-Project/lunda16-preprocess-from-benjamin.ipynb#W2sdnNjb2RlLXJlbW90ZQ%3D%3D?line=6'>7</a>\u001b[0m     \u001b[39m'\u001b[39m\u001b[39m1.3.6.1.4.1.14519.5.2.1.6279.6001.946129570505893110165820050204\u001b[39m\u001b[39m'\u001b[39m\n\u001b[1;32m      <a href='vscode-notebook-cell://ssh-remote%2Bdiffusion-venv/home/user/Imperial-Individual-Project/lunda16-preprocess-from-benjamin.ipynb#W2sdnNjb2RlLXJlbW90ZQ%3D%3D?line=7'>8</a>\u001b[0m ])]\n",
      "File \u001b[0;32m~/anaconda3/lib/python3.9/site-packages/pandas/io/parsers.py:688\u001b[0m, in \u001b[0;36mread_csv\u001b[0;34m(filepath_or_buffer, sep, delimiter, header, names, index_col, usecols, squeeze, prefix, mangle_dupe_cols, dtype, engine, converters, true_values, false_values, skipinitialspace, skiprows, skipfooter, nrows, na_values, keep_default_na, na_filter, verbose, skip_blank_lines, parse_dates, infer_datetime_format, keep_date_col, date_parser, dayfirst, cache_dates, iterator, chunksize, compression, thousands, decimal, lineterminator, quotechar, quoting, doublequote, escapechar, comment, encoding, dialect, error_bad_lines, warn_bad_lines, delim_whitespace, low_memory, memory_map, float_precision)\u001b[0m\n\u001b[1;32m    635\u001b[0m     engine_specified \u001b[39m=\u001b[39m \u001b[39mFalse\u001b[39;00m\n\u001b[1;32m    637\u001b[0m kwds\u001b[39m.\u001b[39mupdate(\n\u001b[1;32m    638\u001b[0m     delimiter\u001b[39m=\u001b[39mdelimiter,\n\u001b[1;32m    639\u001b[0m     engine\u001b[39m=\u001b[39mengine,\n\u001b[0;32m   (...)\u001b[0m\n\u001b[1;32m    685\u001b[0m     skip_blank_lines\u001b[39m=\u001b[39mskip_blank_lines,\n\u001b[1;32m    686\u001b[0m )\n\u001b[0;32m--> 688\u001b[0m \u001b[39mreturn\u001b[39;00m _read(filepath_or_buffer, kwds)\n",
      "File \u001b[0;32m~/anaconda3/lib/python3.9/site-packages/pandas/io/parsers.py:454\u001b[0m, in \u001b[0;36m_read\u001b[0;34m(filepath_or_buffer, kwds)\u001b[0m\n\u001b[1;32m    451\u001b[0m _validate_names(kwds\u001b[39m.\u001b[39mget(\u001b[39m\"\u001b[39m\u001b[39mnames\u001b[39m\u001b[39m\"\u001b[39m, \u001b[39mNone\u001b[39;00m))\n\u001b[1;32m    453\u001b[0m \u001b[39m# Create the parser.\u001b[39;00m\n\u001b[0;32m--> 454\u001b[0m parser \u001b[39m=\u001b[39m TextFileReader(fp_or_buf, \u001b[39m*\u001b[39;49m\u001b[39m*\u001b[39;49mkwds)\n\u001b[1;32m    456\u001b[0m \u001b[39mif\u001b[39;00m chunksize \u001b[39mor\u001b[39;00m iterator:\n\u001b[1;32m    457\u001b[0m     \u001b[39mreturn\u001b[39;00m parser\n",
      "File \u001b[0;32m~/anaconda3/lib/python3.9/site-packages/pandas/io/parsers.py:948\u001b[0m, in \u001b[0;36mTextFileReader.__init__\u001b[0;34m(self, f, engine, **kwds)\u001b[0m\n\u001b[1;32m    945\u001b[0m \u001b[39mif\u001b[39;00m \u001b[39m\"\u001b[39m\u001b[39mhas_index_names\u001b[39m\u001b[39m\"\u001b[39m \u001b[39min\u001b[39;00m kwds:\n\u001b[1;32m    946\u001b[0m     \u001b[39mself\u001b[39m\u001b[39m.\u001b[39moptions[\u001b[39m\"\u001b[39m\u001b[39mhas_index_names\u001b[39m\u001b[39m\"\u001b[39m] \u001b[39m=\u001b[39m kwds[\u001b[39m\"\u001b[39m\u001b[39mhas_index_names\u001b[39m\u001b[39m\"\u001b[39m]\n\u001b[0;32m--> 948\u001b[0m \u001b[39mself\u001b[39;49m\u001b[39m.\u001b[39;49m_make_engine(\u001b[39mself\u001b[39;49m\u001b[39m.\u001b[39;49mengine)\n",
      "File \u001b[0;32m~/anaconda3/lib/python3.9/site-packages/pandas/io/parsers.py:1180\u001b[0m, in \u001b[0;36mTextFileReader._make_engine\u001b[0;34m(self, engine)\u001b[0m\n\u001b[1;32m   1178\u001b[0m \u001b[39mdef\u001b[39;00m \u001b[39m_make_engine\u001b[39m(\u001b[39mself\u001b[39m, engine\u001b[39m=\u001b[39m\u001b[39m\"\u001b[39m\u001b[39mc\u001b[39m\u001b[39m\"\u001b[39m):\n\u001b[1;32m   1179\u001b[0m     \u001b[39mif\u001b[39;00m engine \u001b[39m==\u001b[39m \u001b[39m\"\u001b[39m\u001b[39mc\u001b[39m\u001b[39m\"\u001b[39m:\n\u001b[0;32m-> 1180\u001b[0m         \u001b[39mself\u001b[39m\u001b[39m.\u001b[39m_engine \u001b[39m=\u001b[39m CParserWrapper(\u001b[39mself\u001b[39;49m\u001b[39m.\u001b[39;49mf, \u001b[39m*\u001b[39;49m\u001b[39m*\u001b[39;49m\u001b[39mself\u001b[39;49m\u001b[39m.\u001b[39;49moptions)\n\u001b[1;32m   1181\u001b[0m     \u001b[39melse\u001b[39;00m:\n\u001b[1;32m   1182\u001b[0m         \u001b[39mif\u001b[39;00m engine \u001b[39m==\u001b[39m \u001b[39m\"\u001b[39m\u001b[39mpython\u001b[39m\u001b[39m\"\u001b[39m:\n",
      "File \u001b[0;32m~/anaconda3/lib/python3.9/site-packages/pandas/io/parsers.py:2010\u001b[0m, in \u001b[0;36mCParserWrapper.__init__\u001b[0;34m(self, src, **kwds)\u001b[0m\n\u001b[1;32m   2007\u001b[0m \u001b[39mself\u001b[39m\u001b[39m.\u001b[39musecols, \u001b[39mself\u001b[39m\u001b[39m.\u001b[39musecols_dtype \u001b[39m=\u001b[39m _validate_usecols_arg(kwds[\u001b[39m\"\u001b[39m\u001b[39musecols\u001b[39m\u001b[39m\"\u001b[39m])\n\u001b[1;32m   2008\u001b[0m kwds[\u001b[39m\"\u001b[39m\u001b[39musecols\u001b[39m\u001b[39m\"\u001b[39m] \u001b[39m=\u001b[39m \u001b[39mself\u001b[39m\u001b[39m.\u001b[39musecols\n\u001b[0;32m-> 2010\u001b[0m \u001b[39mself\u001b[39m\u001b[39m.\u001b[39m_reader \u001b[39m=\u001b[39m parsers\u001b[39m.\u001b[39;49mTextReader(src, \u001b[39m*\u001b[39;49m\u001b[39m*\u001b[39;49mkwds)\n\u001b[1;32m   2011\u001b[0m \u001b[39mself\u001b[39m\u001b[39m.\u001b[39munnamed_cols \u001b[39m=\u001b[39m \u001b[39mself\u001b[39m\u001b[39m.\u001b[39m_reader\u001b[39m.\u001b[39munnamed_cols\n\u001b[1;32m   2013\u001b[0m passed_names \u001b[39m=\u001b[39m \u001b[39mself\u001b[39m\u001b[39m.\u001b[39mnames \u001b[39mis\u001b[39;00m \u001b[39mNone\u001b[39;00m\n",
      "File \u001b[0;32mpandas/_libs/parsers.pyx:382\u001b[0m, in \u001b[0;36mpandas._libs.parsers.TextReader.__cinit__\u001b[0;34m()\u001b[0m\n",
      "File \u001b[0;32mpandas/_libs/parsers.pyx:674\u001b[0m, in \u001b[0;36mpandas._libs.parsers.TextReader._setup_parser_source\u001b[0;34m()\u001b[0m\n",
      "\u001b[0;31mFileNotFoundError\u001b[0m: [Errno 2] No such file or directory: '/vol/bitbucket/bh1511/data/LUNA16/annotations.csv'"
     ]
    }
   ],
   "source": [
    "file_list = glob(os.path.join(root, 'images/*.mhd'))\n",
    "annotations_df = pd.read_csv(os.path.join(root, 'annotations.csv'))\n",
    "\n",
    "# Remove missing images\n",
    "annotations_df = annotations_df[~annotations_df['seriesuid'].isin([\n",
    "    '1.3.6.1.4.1.14519.5.2.1.6279.6001.771741891125176943862272696845',\n",
    "    '1.3.6.1.4.1.14519.5.2.1.6279.6001.946129570505893110165820050204'\n",
    "])]\n",
    "\n",
    "print(\"Files Count:\",len(file_list))\n",
    "print(\"DF Count:\",len(annotations_df))\n",
    "annotations_df.head()"
   ]
  },
  {
   "cell_type": "code",
   "execution_count": null,
   "id": "c59499f2-7cdf-43e2-a5e8-96671df42ddb",
   "metadata": {},
   "outputs": [
    {
     "ename": "",
     "evalue": "",
     "output_type": "error",
     "traceback": [
      "\u001b[1;31mRunning cells with '/usr/bin/python3' requires the ipykernel package.\n",
      "\u001b[1;31mRun the following command to install 'ipykernel' into the Python environment. \n",
      "\u001b[1;31mCommand: '/usr/bin/python3 -m pip install ipykernel -U --user --force-reinstall'"
     ]
    }
   ],
   "source": [
    "d = annotations_df['diameter_mm'].values\n",
    "fig = plt.hist(d, bins=100)"
   ]
  },
  {
   "cell_type": "code",
   "execution_count": null,
   "id": "b37ab9ce-b74f-44a7-b867-a169bf538bf4",
   "metadata": {},
   "outputs": [
    {
     "ename": "",
     "evalue": "",
     "output_type": "error",
     "traceback": [
      "\u001b[1;31mRunning cells with '/usr/bin/python3' requires the ipykernel package.\n",
      "\u001b[1;31mRun the following command to install 'ipykernel' into the Python environment. \n",
      "\u001b[1;31mCommand: '/usr/bin/python3 -m pip install ipykernel -U --user --force-reinstall'"
     ]
    }
   ],
   "source": [
    "annotations_df = annotations_df[annotations_df['diameter_mm']>=3.9]     # Excluding nodules with diameter less than 3.9mm\n",
    "print(len(annotations_df))"
   ]
  },
  {
   "cell_type": "code",
   "execution_count": null,
   "id": "898d318d-a235-404d-9bb0-ca4e911763e9",
   "metadata": {},
   "outputs": [
    {
     "ename": "",
     "evalue": "",
     "output_type": "error",
     "traceback": [
      "\u001b[1;31mRunning cells with '/usr/bin/python3' requires the ipykernel package.\n",
      "\u001b[1;31mRun the following command to install 'ipykernel' into the Python environment. \n",
      "\u001b[1;31mCommand: '/usr/bin/python3 -m pip install ipykernel -U --user --force-reinstall'"
     ]
    }
   ],
   "source": [
    "def load_image(file):\n",
    "    image_itk = sitk.ReadImage(file)\n",
    "    image_itk = sitk.IntensityWindowing(image_itk, \n",
    "                                        windowMinimum=-1000, windowMaximum=400, \n",
    "                                        outputMinimum=0.0, outputMaximum=255.0)\n",
    "    image_itk = sitk.Cast(image_itk, sitk.sitkUInt8)\n",
    "    image_arr = sitk.GetArrayFromImage(image_itk)\n",
    "    origin = np.array(list(image_itk.GetOrigin()))\n",
    "    space = np.array(list(image_itk.GetSpacing()))\n",
    "    return image_arr, origin, space\n",
    "\n",
    "def load_mask(file):\n",
    "    mask_itk = sitk.ReadImage(file)\n",
    "    mask_arr = sitk.GetArrayFromImage(mask_itk)\n",
    "    return mask_arr\n",
    "\n",
    "def make_mask(image, center, diam):\n",
    "    mask = np.zeros_like(image, dtype=np.uint8)\n",
    "    mask = cv2.circle(mask, (abs(int(center[0])),abs(int(center[1]))),int(abs(diam//2)), 255, -1)\n",
    "    return mask\n",
    "\n",
    "def make_body_mask(image):\n",
    "    _, body_mask = cv2.threshold(image,127,255,cv2.THRESH_BINARY)\n",
    "    body_mask = ndimage.binary_fill_holes(body_mask).astype(int)\n",
    "\n",
    "    labels_mask = measure.label(body_mask)                       \n",
    "    regions = measure.regionprops(labels_mask)\n",
    "    regions.sort(key=lambda x: x.area, reverse=True)\n",
    "    if len(regions) > 1:\n",
    "        for rg in regions[1:]:\n",
    "            labels_mask[rg.coords[:,0], rg.coords[:,1]] = 0\n",
    "    labels_mask[labels_mask!=0] = 1\n",
    "    return labels_mask\n",
    "\n",
    "# label_to_color = {\n",
    "#     0: [  0,   0,   0],\n",
    "#     1: [ 34,  80, 242],\n",
    "#     2: [  0, 186, 127],\n",
    "#     3: [  239, 164, 0],\n",
    "#     4: [  0, 185, 255],\n",
    "#     5: [115, 115, 115],\n",
    "# }\n",
    "\n",
    "label_to_color = {\n",
    "    0: [  0,   0,   0],\n",
    "    1: [242,  80,  34],\n",
    "    2: [127, 186,   0],\n",
    "    3: [  0, 164, 239],\n",
    "    4: [255, 185,   0],\n",
    "    5: [115, 115, 115],\n",
    "}\n"
   ]
  },
  {
   "cell_type": "code",
   "execution_count": null,
   "id": "2061d87e-4196-4382-bf76-e0658bd6d67f",
   "metadata": {},
   "outputs": [
    {
     "ename": "",
     "evalue": "",
     "output_type": "error",
     "traceback": [
      "\u001b[1;31mRunning cells with '/usr/bin/python3' requires the ipykernel package.\n",
      "\u001b[1;31mRun the following command to install 'ipykernel' into the Python environment. \n",
      "\u001b[1;31mCommand: '/usr/bin/python3 -m pip install ipykernel -U --user --force-reinstall'"
     ]
    }
   ],
   "source": [
    "for i, seriesuid in tqdm(enumerate(annotations_df['seriesuid'].unique()), total=len(annotations_df['seriesuid'].unique())):\n",
    "    \n",
    "#     print(seriesuid)\n",
    "    \n",
    "#     if i == 4: \n",
    "#         break\n",
    "    \n",
    "    annotations = annotations_df[annotations_df['seriesuid']==seriesuid]\n",
    "    image_arr, origin, space = load_image(os.path.join(root, f'images/{seriesuid}.mhd'))      # Loading the CT scan\n",
    "    num_z, height, width = image_arr.shape\n",
    "    mask_arr = load_mask(os.path.join(root, f'seg-lungs-LUNA16/{seriesuid}.mhd'))\n",
    "\n",
    "    lung_slice_idx = np.any(mask_arr, axis=(1,2))\n",
    "\n",
    "\n",
    "    for ii, row in annotations.iterrows():\n",
    "\n",
    "        node_x = row[\"coordX\"]     # X coordinate of the nodule\n",
    "        node_y = row[\"coordY\"]     # Y coordinate of the nodule\n",
    "        node_z = row[\"coordZ\"]     # Z coordinate of the nodule\n",
    "        diam = row[\"diameter_mm\"]  # Diameter of the nodule\n",
    "\n",
    "        center = np.array([node_x, node_y, node_z])                 # nodule center (x,y,z ordering)\n",
    "        v_center = np.rint((center-origin)/space).astype('int')     # nodule center in voxel space (x,y,z ordering)\n",
    "        v_diam = np.ceil((diam/space)).astype('int')                # Diameter of nodule in voxel space\n",
    "\n",
    "        min_i = max(0,(int(v_center[2]-v_diam[2]//2)))\n",
    "        max_i = min((int(v_center[2]+v_diam[2]//2)),(num_z-2))\n",
    "\n",
    "        lung_slice_idx[min_i:max_i+1] = False  # Lung slices that are nodule free\n",
    "        \n",
    "        idx = int(v_center[2])  # slice idx centered on nodule\n",
    "\n",
    "        image_slice = image_arr[idx]    \n",
    "        # lung_roi_mask = (cv2.dilate(mask_arr[idx], kernel=np.ones((12,12))) > 0).astype('uint8')   \n",
    "        l_lung_mask = (mask_arr[idx]==3).astype('uint8')   \n",
    "        r_lung_mask = (mask_arr[idx]==4).astype('uint8')   \n",
    "        trachea_mask = (mask_arr[idx]==5).astype('uint8')   \n",
    "        body_mask = make_body_mask(image_slice)\n",
    "\n",
    "        nodule_mask = make_mask(image_slice, v_center, v_diam[0])    # Creating a mask of the nodule\n",
    "\n",
    "        # Calculating the threshold value for extracting the nodule mask using binary thresholding\n",
    "        nodule_mask = cv2.bitwise_and(image_slice, image_slice, mask=cv2.dilate(nodule_mask, kernel=np.ones((5,5))))\n",
    "        pts = nodule_mask[nodule_mask>0]\n",
    "        kmeans2 = KMeans(n_clusters=2).fit(np.reshape(pts,(len(pts),1)))\n",
    "        centroids2 = sorted(kmeans2.cluster_centers_.flatten())\n",
    "        threshold2 = np.mean(centroids2)\n",
    "        _, nodule_mask = cv2.threshold(nodule_mask, threshold2, 1, cv2.THRESH_BINARY)\n",
    "        \n",
    "        total_mask = np.stack([np.zeros((512,512)), body_mask, l_lung_mask*2, r_lung_mask*3, trachea_mask*4, nodule_mask*5], axis=-1)\n",
    "        total_mask = np.argmax(total_mask, axis=-1)\n",
    "        \n",
    "        label_rgb = np.zeros((512, 512, 3), dtype=np.uint8)\n",
    "        for gray, rgb in label_to_color.items():\n",
    "            label_rgb[total_mask == gray, :] = rgb\n",
    "        \n",
    "        # cv2.imwrite(f'{target}/nodule_images/{seriesuid}_{idx}.png', image_slice)\n",
    "        # cv2.imwrite(f'{target}/nodule_labels_ohe/{seriesuid}_{idx}.png', total_mask)\n",
    "        # cv2.imwrite(f'{target}/nodule_labels_rgb/{seriesuid}_{idx}.png', label_rgb)\n",
    "\n",
    "    for ii in range(0, len(lung_slice_idx), 4): # take every fourth slice. Random sample also works\n",
    "    \n",
    "        if lung_slice_idx[ii] == False:\n",
    "            continue\n",
    "\n",
    "        image_slice = image_arr[ii]    \n",
    "        # lung_roi_mask = (cv2.dilate(mask_arr[ii], kernel=np.ones((12,12))) > 0).astype('uint8')\n",
    "        l_lung_mask = (mask_arr[ii]==3).astype('uint8')   \n",
    "        r_lung_mask = (mask_arr[ii]==4).astype('uint8')   \n",
    "        trachea_mask = (mask_arr[ii]==5).astype('uint8')\n",
    "        body_mask = make_body_mask(image_slice)\n",
    "        \n",
    "        total_mask = np.stack([np.zeros((512,512)), body_mask, l_lung_mask*2, r_lung_mask*3, trachea_mask*4], axis=-1)\n",
    "        total_mask = np.argmax(total_mask, axis=-1)\n",
    "        \n",
    "        label_rgb = np.zeros((512, 512, 3), dtype=np.uint8)\n",
    "        for gray, rgb in label_to_color.items():\n",
    "            label_rgb[total_mask == gray, :] = rgb\n",
    "        \n",
    "        # cv2.imwrite(f'{target}/images/{seriesuid}_{ii}.png', image_slice)\n",
    "        # cv2.imwrite(f'{target}/labels_ohe/{seriesuid}_{ii}.png', total_mask)\n",
    "        # cv2.imwrite(f'{target}/labels_rgb/{seriesuid}_{ii}.png', label_rgb)"
   ]
  },
  {
   "cell_type": "raw",
   "id": "d767a2af-8adf-4db9-bbc9-da29fca68e0e",
   "metadata": {},
   "source": [
    "for i, seriesuid in tqdm(enumerate(annotations_df['seriesuid'].unique()), total=len(annotations_df['seriesuid'].unique())):\n",
    "    \n",
    "    image_file = os.path.join(root, f'images/{seriesuid}.mhd')\n",
    "    mask_file = os.path.join(root, f'seg-lungs-LUNA16/{seriesuid}.mhd')\n",
    "    \n",
    "    if not os.path.exists(image_file):\n",
    "        print(image_file)\n",
    "    \n",
    "    if not os.path.exists(mask_file):\n",
    "        print(mask_file)\n",
    "    \n",
    "\n",
    "# Does not exist:\n",
    "# images/1.3.6.1.4.1.14519.5.2.1.6279.6001.771741891125176943862272696845.mhd\n",
    "# images/1.3.6.1.4.1.14519.5.2.1.6279.6001.946129570505893110165820050204.mhd\n"
   ]
  },
  {
   "cell_type": "raw",
   "id": "fe519312-3138-460c-83a3-a952c680e431",
   "metadata": {},
   "source": [
    "!rm LUNA16/images/*.png LUNA16/labels_ohe/*.png LUNA16/labels_rgb/*.png LUNA16/nodule_images/*.png LUNA16/nodule_labels_ohe/*.png LUNA16/nodule_labels_rgb/*.png"
   ]
  }
 ],
 "metadata": {
  "kernelspec": {
   "display_name": "Python 3",
   "language": "python",
   "name": "python3"
  },
  "language_info": {
   "codemirror_mode": {
    "name": "ipython",
    "version": 3
   },
   "file_extension": ".py",
   "mimetype": "text/x-python",
   "name": "python",
   "nbconvert_exporter": "python",
   "pygments_lexer": "ipython3",
   "version": "3.9.12"
  },
  "vscode": {
   "interpreter": {
    "hash": "31f2aee4e71d21fbe5cf8b01ff0e069b9275f58929596ceb00d14d90e3e16cd6"
   }
  }
 },
 "nbformat": 4,
 "nbformat_minor": 5
}
